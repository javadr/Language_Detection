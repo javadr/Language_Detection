{
 "cells": [
  {
   "cell_type": "markdown",
   "metadata": {
    "id": "pXWnm-MsbmGM"
   },
   "source": [
    "### Importing the Libraries"
   ]
  },
  {
   "cell_type": "code",
   "execution_count": 1,
   "metadata": {
    "id": "kPAsV03AbmGP"
   },
   "outputs": [],
   "source": [
    "import pandas as pd\n",
    "import numpy as np\n",
    "import matplotlib.pyplot as plt\n",
    "\n",
    "np.random.seed(1234)\n",
    "\n",
    "import warnings\n",
    "warnings.simplefilter(\"ignore\")"
   ]
  },
  {
   "cell_type": "code",
   "execution_count": 2,
   "metadata": {
    "colab": {
     "base_uri": "https://localhost:8080/"
    },
    "id": "DjuJFwKDx7vM",
    "outputId": "c800a218-4cff-4e7f-e6cf-ee79c5a34b6f"
   },
   "outputs": [],
   "source": [
    "#from google.colab import drive\n",
    "#drive.mount('/content/drive')\n"
   ]
  },
  {
   "cell_type": "markdown",
   "metadata": {
    "id": "6gwYGXVPiAQ1"
   },
   "source": []
  },
  {
   "cell_type": "code",
   "execution_count": 3,
   "metadata": {
    "colab": {
     "base_uri": "https://localhost:8080/"
    },
    "id": "7q1DPss2bmGP",
    "outputId": "410a7fa2-7139-4541-bee7-95415ba4345c",
    "scrolled": true
   },
   "outputs": [
    {
     "name": "stdout",
     "output_type": "stream",
     "text": [
      "CPU times: user 26.6 ms, sys: 13.6 ms, total: 40.2 ms\n",
      "Wall time: 37.6 ms\n"
     ]
    }
   ],
   "source": [
    "# Loading the dataset\n",
    "# Dataset is given from https://www.kaggle.com/basilb2s/language-detection with some modification as well as another language, i.e. Persian. \n",
    "#%time data = pd.read_csv(\"/content/drive/MyDrive/language_detection.csv\")\n",
    "%time data = pd.read_csv(\"language_detection.csv\")\n"
   ]
  },
  {
   "cell_type": "markdown",
   "metadata": {
    "id": "4uMea2I__Pj9"
   },
   "source": [
    "### Get familiar with the data¶\n",
    "\n",
    "> Indented block\n",
    "\n"
   ]
  },
  {
   "cell_type": "code",
   "execution_count": 4,
   "metadata": {
    "colab": {
     "base_uri": "https://localhost:8080/",
     "height": 363
    },
    "id": "JGyhwtnfbmGR",
    "outputId": "f73d3540-1912-474f-da8d-9a36dc1f2500"
   },
   "outputs": [
    {
     "data": {
      "text/html": [
       "<div>\n",
       "<style scoped>\n",
       "    .dataframe tbody tr th:only-of-type {\n",
       "        vertical-align: middle;\n",
       "    }\n",
       "\n",
       "    .dataframe tbody tr th {\n",
       "        vertical-align: top;\n",
       "    }\n",
       "\n",
       "    .dataframe thead th {\n",
       "        text-align: right;\n",
       "    }\n",
       "</style>\n",
       "<table border=\"1\" class=\"dataframe\">\n",
       "  <thead>\n",
       "    <tr style=\"text-align: right;\">\n",
       "      <th></th>\n",
       "      <th>Text</th>\n",
       "      <th>Language</th>\n",
       "    </tr>\n",
       "  </thead>\n",
       "  <tbody>\n",
       "    <tr>\n",
       "      <th>0</th>\n",
       "      <td>Nature, in the broadest sense, is the natural...</td>\n",
       "      <td>English</td>\n",
       "    </tr>\n",
       "    <tr>\n",
       "      <th>1</th>\n",
       "      <td>\"Nature\" can refer to the phenomena of the phy...</td>\n",
       "      <td>English</td>\n",
       "    </tr>\n",
       "    <tr>\n",
       "      <th>2</th>\n",
       "      <td>The study of nature is a large, if not the onl...</td>\n",
       "      <td>English</td>\n",
       "    </tr>\n",
       "    <tr>\n",
       "      <th>3</th>\n",
       "      <td>Although humans are part of nature, human acti...</td>\n",
       "      <td>English</td>\n",
       "    </tr>\n",
       "    <tr>\n",
       "      <th>4</th>\n",
       "      <td>[1] The word nature is borrowed from the Old F...</td>\n",
       "      <td>English</td>\n",
       "    </tr>\n",
       "    <tr>\n",
       "      <th>5</th>\n",
       "      <td>[2] In ancient philosophy, natura is mostly us...</td>\n",
       "      <td>English</td>\n",
       "    </tr>\n",
       "    <tr>\n",
       "      <th>6</th>\n",
       "      <td>[3][4] \\nThe concept of nature as a whole, the...</td>\n",
       "      <td>English</td>\n",
       "    </tr>\n",
       "    <tr>\n",
       "      <th>7</th>\n",
       "      <td>During the advent of modern scientific method ...</td>\n",
       "      <td>English</td>\n",
       "    </tr>\n",
       "    <tr>\n",
       "      <th>8</th>\n",
       "      <td>[5][6] With the Industrial revolution, nature ...</td>\n",
       "      <td>English</td>\n",
       "    </tr>\n",
       "    <tr>\n",
       "      <th>9</th>\n",
       "      <td>However, a vitalist vision of nature, closer t...</td>\n",
       "      <td>English</td>\n",
       "    </tr>\n",
       "  </tbody>\n",
       "</table>\n",
       "</div>"
      ],
      "text/plain": [
       "                                                Text Language\n",
       "0   Nature, in the broadest sense, is the natural...  English\n",
       "1  \"Nature\" can refer to the phenomena of the phy...  English\n",
       "2  The study of nature is a large, if not the onl...  English\n",
       "3  Although humans are part of nature, human acti...  English\n",
       "4  [1] The word nature is borrowed from the Old F...  English\n",
       "5  [2] In ancient philosophy, natura is mostly us...  English\n",
       "6  [3][4] \\nThe concept of nature as a whole, the...  English\n",
       "7  During the advent of modern scientific method ...  English\n",
       "8  [5][6] With the Industrial revolution, nature ...  English\n",
       "9  However, a vitalist vision of nature, closer t...  English"
      ]
     },
     "execution_count": 4,
     "metadata": {},
     "output_type": "execute_result"
    }
   ],
   "source": [
    "data.head(10)"
   ]
  },
  {
   "cell_type": "code",
   "execution_count": 5,
   "metadata": {
    "colab": {
     "base_uri": "https://localhost:8080/"
    },
    "id": "AyStJsNtbmGR",
    "outputId": "ccc365b4-a740-4825-ff5a-e784b6d6858b"
   },
   "outputs": [
    {
     "data": {
      "text/plain": [
       "(English       1385\n",
       " French        1014\n",
       " Spanish        819\n",
       " Portuguese     739\n",
       " Italian        698\n",
       " Russian        692\n",
       " Swedish        676\n",
       " Malayalam      594\n",
       " Dutch          546\n",
       " Arabic         536\n",
       " Turkish        474\n",
       " German         470\n",
       " Tamil          469\n",
       " Persian        466\n",
       " Danish         428\n",
       " Kannada        369\n",
       " Greek          365\n",
       " Hindi           63\n",
       " Name: Language, dtype: int64,\n",
       " 10803)"
      ]
     },
     "execution_count": 5,
     "metadata": {},
     "output_type": "execute_result"
    }
   ],
   "source": [
    "# value count for each language\n",
    "data[\"Language\"].value_counts(), len(data)"
   ]
  },
  {
   "cell_type": "code",
   "execution_count": 6,
   "metadata": {
    "id": "S1uzpC9BbmGS"
   },
   "outputs": [],
   "source": [
    "# separating the independent and dependant features\n",
    "X = data[\"Text\"]\n",
    "Y = data[\"Language\"]"
   ]
  },
  {
   "cell_type": "code",
   "execution_count": 7,
   "metadata": {
    "colab": {
     "base_uri": "https://localhost:8080/"
    },
    "id": "WoX6Jv1ybmGS",
    "outputId": "4af50a7c-aa5a-4d1e-d3d0-5d714b5ca037"
   },
   "outputs": [
    {
     "name": "stdout",
     "output_type": "stream",
     "text": [
      "CPU times: user 1.78 ms, sys: 0 ns, total: 1.78 ms\n",
      "Wall time: 1.8 ms\n"
     ]
    }
   ],
   "source": [
    "# converting categorical variables to numerical\n",
    "\n",
    "from sklearn.preprocessing import LabelEncoder\n",
    "le = LabelEncoder()\n",
    "%time y = le.fit_transform(Y)"
   ]
  },
  {
   "cell_type": "markdown",
   "metadata": {
    "id": "G6AagH1TbmGT"
   },
   "source": [
    "### Text preprocessing\n",
    "\n",
    "> Indented block\n",
    "\n"
   ]
  },
  {
   "cell_type": "code",
   "execution_count": 8,
   "metadata": {
    "id": "ncE9xGv2bmGT"
   },
   "outputs": [],
   "source": [
    "# Data Sanitation by removing unnecessary characters\n",
    "import re\n",
    "\n",
    "data_list = []\n",
    "for text in X:\n",
    "    extras = '«»\\n\\r\\t!\"$%&/{}[]()=?\\\\`´*+~#-_.:,;<>|1234567890°-\\'۰۱۲۳۴۵۶۷۸۹،×„”“•′؟؛'\n",
    "    rx = '[' + re.escape(''.join(extras)) + ']'\n",
    "    text = re.sub(' +', ' ', re.sub(rx, ' ', text) ).strip()\n",
    "    text = text.lower().replace(' ', '_')\n",
    "    data_list.append(text)"
   ]
  },
  {
   "cell_type": "markdown",
   "metadata": {
    "id": "MB-8QAx6bmGU"
   },
   "source": [
    "### Train Test split"
   ]
  },
  {
   "cell_type": "code",
   "execution_count": 9,
   "metadata": {
    "colab": {
     "base_uri": "https://localhost:8080/"
    },
    "id": "sIk8sr1obmGV",
    "outputId": "2f1f0f40-f050-4361-a276-a2653108cf53"
   },
   "outputs": [
    {
     "name": "stdout",
     "output_type": "stream",
     "text": [
      "CPU times: user 1.14 ms, sys: 683 µs, total: 1.82 ms\n",
      "Wall time: 1.83 ms\n"
     ]
    }
   ],
   "source": [
    "from sklearn.model_selection import train_test_split\n",
    "\n",
    "%time X_train, X_test, y_train, y_test = train_test_split(data_list, y, test_size = 0.20, random_state=1234)"
   ]
  },
  {
   "cell_type": "markdown",
   "metadata": {
    "id": "jXWYb9wJbmGV"
   },
   "source": [
    "### Bag of Words\n",
    "Using bigrams and thigrams"
   ]
  },
  {
   "cell_type": "code",
   "execution_count": 10,
   "metadata": {
    "colab": {
     "base_uri": "https://localhost:8080/"
    },
    "id": "a0GSXGXGbmGV",
    "outputId": "23920e73-3b16-4393-de18-88a4d9965764"
   },
   "outputs": [
    {
     "name": "stdout",
     "output_type": "stream",
     "text": [
      "CPU times: user 957 ms, sys: 199 ms, total: 1.16 s\n",
      "Wall time: 1.16 s\n",
      "CPU times: user 225 ms, sys: 48.4 ms, total: 274 ms\n",
      "Wall time: 273 ms\n"
     ]
    },
    {
     "data": {
      "text/plain": [
       "((8642, 22728), (2161, 22728))"
      ]
     },
     "execution_count": 10,
     "metadata": {},
     "output_type": "execute_result"
    }
   ],
   "source": [
    "# creating bag of words using countvectorizer\n",
    "\n",
    "from sklearn.feature_extraction.text import CountVectorizer\n",
    "cv = CountVectorizer(analyzer='char', stop_words='english', ngram_range=(2,3), min_df=5, )\n",
    "%time x_train = cv.fit_transform(X_train).toarray()\n",
    "%time x_test = cv.transform(X_test).toarray()\n",
    "x_train.shape, x_test.shape"
   ]
  },
  {
   "cell_type": "markdown",
   "metadata": {
    "id": "QfsqX1TRbmGW"
   },
   "source": [
    "### Multinomial Naive Model creation and Prediction"
   ]
  },
  {
   "cell_type": "code",
   "execution_count": 11,
   "metadata": {
    "colab": {
     "base_uri": "https://localhost:8080/"
    },
    "id": "J0zqSAKYbmGW",
    "outputId": "5d6da35f-199f-4636-d454-6ce2e3d964c9"
   },
   "outputs": [
    {
     "name": "stdout",
     "output_type": "stream",
     "text": [
      "CPU times: user 1min, sys: 204 ms, total: 1min\n",
      "Wall time: 1min\n"
     ]
    },
    {
     "data": {
      "text/plain": [
       "MultinomialNB()"
      ]
     },
     "execution_count": 11,
     "metadata": {},
     "output_type": "execute_result"
    }
   ],
   "source": [
    "from sklearn.naive_bayes import MultinomialNB\n",
    "\n",
    "modelMNB = MultinomialNB()\n",
    "%time  modelMNB.fit(x_train, y_train)"
   ]
  },
  {
   "cell_type": "code",
   "execution_count": 12,
   "metadata": {
    "colab": {
     "base_uri": "https://localhost:8080/",
     "height": 475
    },
    "id": "UtP7aFb6bmGW",
    "outputId": "a4808752-70a2-4161-cb48-c2a456882f04"
   },
   "outputs": [
    {
     "data": {
      "text/html": [
       "<div>\n",
       "<style scoped>\n",
       "    .dataframe tbody tr th:only-of-type {\n",
       "        vertical-align: middle;\n",
       "    }\n",
       "\n",
       "    .dataframe tbody tr th {\n",
       "        vertical-align: top;\n",
       "    }\n",
       "\n",
       "    .dataframe thead th {\n",
       "        text-align: right;\n",
       "    }\n",
       "</style>\n",
       "<table border=\"1\" class=\"dataframe\">\n",
       "  <thead>\n",
       "    <tr style=\"text-align: right;\">\n",
       "      <th></th>\n",
       "      <th>Arabic</th>\n",
       "      <th>Danish</th>\n",
       "      <th>Dutch</th>\n",
       "      <th>English</th>\n",
       "      <th>French</th>\n",
       "      <th>German</th>\n",
       "      <th>Greek</th>\n",
       "      <th>Hindi</th>\n",
       "      <th>Italian</th>\n",
       "      <th>Kannada</th>\n",
       "      <th>Malayalam</th>\n",
       "      <th>Persian</th>\n",
       "      <th>Portuguese</th>\n",
       "      <th>Russian</th>\n",
       "      <th>Spanish</th>\n",
       "      <th>Swedish</th>\n",
       "      <th>Tamil</th>\n",
       "    </tr>\n",
       "    <tr>\n",
       "      <th>token</th>\n",
       "      <th></th>\n",
       "      <th></th>\n",
       "      <th></th>\n",
       "      <th></th>\n",
       "      <th></th>\n",
       "      <th></th>\n",
       "      <th></th>\n",
       "      <th></th>\n",
       "      <th></th>\n",
       "      <th></th>\n",
       "      <th></th>\n",
       "      <th></th>\n",
       "      <th></th>\n",
       "      <th></th>\n",
       "      <th></th>\n",
       "      <th></th>\n",
       "      <th></th>\n",
       "    </tr>\n",
       "  </thead>\n",
       "  <tbody>\n",
       "    <tr>\n",
       "      <th>ζει</th>\n",
       "      <td>0.0</td>\n",
       "      <td>0.0</td>\n",
       "      <td>0.0</td>\n",
       "      <td>0.0</td>\n",
       "      <td>0.0</td>\n",
       "      <td>0.0</td>\n",
       "      <td>12.0</td>\n",
       "      <td>0.0</td>\n",
       "      <td>0.0</td>\n",
       "      <td>0.0</td>\n",
       "      <td>0.0</td>\n",
       "      <td>0.0</td>\n",
       "      <td>0.0</td>\n",
       "      <td>0.0</td>\n",
       "      <td>0.0</td>\n",
       "      <td>0.0</td>\n",
       "      <td>0.0</td>\n",
       "    </tr>\n",
       "    <tr>\n",
       "      <th>_эк</th>\n",
       "      <td>0.0</td>\n",
       "      <td>0.0</td>\n",
       "      <td>0.0</td>\n",
       "      <td>0.0</td>\n",
       "      <td>0.0</td>\n",
       "      <td>0.0</td>\n",
       "      <td>0.0</td>\n",
       "      <td>0.0</td>\n",
       "      <td>0.0</td>\n",
       "      <td>0.0</td>\n",
       "      <td>0.0</td>\n",
       "      <td>0.0</td>\n",
       "      <td>0.0</td>\n",
       "      <td>9.0</td>\n",
       "      <td>0.0</td>\n",
       "      <td>0.0</td>\n",
       "      <td>0.0</td>\n",
       "    </tr>\n",
       "    <tr>\n",
       "      <th>änt</th>\n",
       "      <td>0.0</td>\n",
       "      <td>0.0</td>\n",
       "      <td>0.0</td>\n",
       "      <td>0.0</td>\n",
       "      <td>0.0</td>\n",
       "      <td>0.0</td>\n",
       "      <td>0.0</td>\n",
       "      <td>0.0</td>\n",
       "      <td>0.0</td>\n",
       "      <td>0.0</td>\n",
       "      <td>0.0</td>\n",
       "      <td>0.0</td>\n",
       "      <td>0.0</td>\n",
       "      <td>0.0</td>\n",
       "      <td>0.0</td>\n",
       "      <td>5.0</td>\n",
       "      <td>0.0</td>\n",
       "    </tr>\n",
       "    <tr>\n",
       "      <th>çu_</th>\n",
       "      <td>0.0</td>\n",
       "      <td>0.0</td>\n",
       "      <td>0.0</td>\n",
       "      <td>0.0</td>\n",
       "      <td>6.0</td>\n",
       "      <td>0.0</td>\n",
       "      <td>0.0</td>\n",
       "      <td>0.0</td>\n",
       "      <td>0.0</td>\n",
       "      <td>0.0</td>\n",
       "      <td>0.0</td>\n",
       "      <td>0.0</td>\n",
       "      <td>0.0</td>\n",
       "      <td>0.0</td>\n",
       "      <td>0.0</td>\n",
       "      <td>0.0</td>\n",
       "      <td>0.0</td>\n",
       "    </tr>\n",
       "    <tr>\n",
       "      <th>r_c</th>\n",
       "      <td>0.0</td>\n",
       "      <td>4.0</td>\n",
       "      <td>3.0</td>\n",
       "      <td>62.0</td>\n",
       "      <td>59.0</td>\n",
       "      <td>2.0</td>\n",
       "      <td>0.0</td>\n",
       "      <td>0.0</td>\n",
       "      <td>22.0</td>\n",
       "      <td>0.0</td>\n",
       "      <td>0.0</td>\n",
       "      <td>0.0</td>\n",
       "      <td>44.0</td>\n",
       "      <td>0.0</td>\n",
       "      <td>29.0</td>\n",
       "      <td>4.0</td>\n",
       "      <td>0.0</td>\n",
       "    </tr>\n",
       "    <tr>\n",
       "      <th>...</th>\n",
       "      <td>...</td>\n",
       "      <td>...</td>\n",
       "      <td>...</td>\n",
       "      <td>...</td>\n",
       "      <td>...</td>\n",
       "      <td>...</td>\n",
       "      <td>...</td>\n",
       "      <td>...</td>\n",
       "      <td>...</td>\n",
       "      <td>...</td>\n",
       "      <td>...</td>\n",
       "      <td>...</td>\n",
       "      <td>...</td>\n",
       "      <td>...</td>\n",
       "      <td>...</td>\n",
       "      <td>...</td>\n",
       "      <td>...</td>\n",
       "    </tr>\n",
       "    <tr>\n",
       "      <th>tme</th>\n",
       "      <td>0.0</td>\n",
       "      <td>0.0</td>\n",
       "      <td>1.0</td>\n",
       "      <td>6.0</td>\n",
       "      <td>0.0</td>\n",
       "      <td>1.0</td>\n",
       "      <td>0.0</td>\n",
       "      <td>0.0</td>\n",
       "      <td>0.0</td>\n",
       "      <td>0.0</td>\n",
       "      <td>0.0</td>\n",
       "      <td>0.0</td>\n",
       "      <td>0.0</td>\n",
       "      <td>1.0</td>\n",
       "      <td>0.0</td>\n",
       "      <td>0.0</td>\n",
       "      <td>0.0</td>\n",
       "    </tr>\n",
       "    <tr>\n",
       "      <th>سخ</th>\n",
       "      <td>7.0</td>\n",
       "      <td>0.0</td>\n",
       "      <td>0.0</td>\n",
       "      <td>0.0</td>\n",
       "      <td>0.0</td>\n",
       "      <td>0.0</td>\n",
       "      <td>0.0</td>\n",
       "      <td>0.0</td>\n",
       "      <td>0.0</td>\n",
       "      <td>0.0</td>\n",
       "      <td>0.0</td>\n",
       "      <td>32.0</td>\n",
       "      <td>0.0</td>\n",
       "      <td>0.0</td>\n",
       "      <td>0.0</td>\n",
       "      <td>0.0</td>\n",
       "      <td>0.0</td>\n",
       "    </tr>\n",
       "    <tr>\n",
       "      <th>pé_</th>\n",
       "      <td>0.0</td>\n",
       "      <td>0.0</td>\n",
       "      <td>0.0</td>\n",
       "      <td>0.0</td>\n",
       "      <td>8.0</td>\n",
       "      <td>0.0</td>\n",
       "      <td>0.0</td>\n",
       "      <td>0.0</td>\n",
       "      <td>0.0</td>\n",
       "      <td>0.0</td>\n",
       "      <td>0.0</td>\n",
       "      <td>0.0</td>\n",
       "      <td>0.0</td>\n",
       "      <td>0.0</td>\n",
       "      <td>0.0</td>\n",
       "      <td>0.0</td>\n",
       "      <td>0.0</td>\n",
       "    </tr>\n",
       "    <tr>\n",
       "      <th>ük</th>\n",
       "      <td>0.0</td>\n",
       "      <td>0.0</td>\n",
       "      <td>0.0</td>\n",
       "      <td>0.0</td>\n",
       "      <td>0.0</td>\n",
       "      <td>0.0</td>\n",
       "      <td>0.0</td>\n",
       "      <td>0.0</td>\n",
       "      <td>0.0</td>\n",
       "      <td>0.0</td>\n",
       "      <td>0.0</td>\n",
       "      <td>0.0</td>\n",
       "      <td>0.0</td>\n",
       "      <td>0.0</td>\n",
       "      <td>0.0</td>\n",
       "      <td>0.0</td>\n",
       "      <td>0.0</td>\n",
       "    </tr>\n",
       "    <tr>\n",
       "      <th>ён</th>\n",
       "      <td>0.0</td>\n",
       "      <td>0.0</td>\n",
       "      <td>0.0</td>\n",
       "      <td>0.0</td>\n",
       "      <td>0.0</td>\n",
       "      <td>0.0</td>\n",
       "      <td>0.0</td>\n",
       "      <td>0.0</td>\n",
       "      <td>0.0</td>\n",
       "      <td>0.0</td>\n",
       "      <td>0.0</td>\n",
       "      <td>0.0</td>\n",
       "      <td>0.0</td>\n",
       "      <td>31.0</td>\n",
       "      <td>0.0</td>\n",
       "      <td>0.0</td>\n",
       "      <td>0.0</td>\n",
       "    </tr>\n",
       "  </tbody>\n",
       "</table>\n",
       "<p>100 rows × 17 columns</p>\n",
       "</div>"
      ],
      "text/plain": [
       "       Arabic  Danish  Dutch  English  French  German  Greek  Hindi  Italian  \\\n",
       "token                                                                          \n",
       "ζει       0.0     0.0    0.0      0.0     0.0     0.0   12.0    0.0      0.0   \n",
       "_эк       0.0     0.0    0.0      0.0     0.0     0.0    0.0    0.0      0.0   \n",
       "änt       0.0     0.0    0.0      0.0     0.0     0.0    0.0    0.0      0.0   \n",
       "çu_       0.0     0.0    0.0      0.0     6.0     0.0    0.0    0.0      0.0   \n",
       "r_c       0.0     4.0    3.0     62.0    59.0     2.0    0.0    0.0     22.0   \n",
       "...       ...     ...    ...      ...     ...     ...    ...    ...      ...   \n",
       "tme       0.0     0.0    1.0      6.0     0.0     1.0    0.0    0.0      0.0   \n",
       "سخ        7.0     0.0    0.0      0.0     0.0     0.0    0.0    0.0      0.0   \n",
       "pé_       0.0     0.0    0.0      0.0     8.0     0.0    0.0    0.0      0.0   \n",
       "ük        0.0     0.0    0.0      0.0     0.0     0.0    0.0    0.0      0.0   \n",
       "ён        0.0     0.0    0.0      0.0     0.0     0.0    0.0    0.0      0.0   \n",
       "\n",
       "       Kannada  Malayalam  Persian  Portuguese  Russian  Spanish  Swedish  \\\n",
       "token                                                                       \n",
       "ζει        0.0        0.0      0.0         0.0      0.0      0.0      0.0   \n",
       "_эк        0.0        0.0      0.0         0.0      9.0      0.0      0.0   \n",
       "änt        0.0        0.0      0.0         0.0      0.0      0.0      5.0   \n",
       "çu_        0.0        0.0      0.0         0.0      0.0      0.0      0.0   \n",
       "r_c        0.0        0.0      0.0        44.0      0.0     29.0      4.0   \n",
       "...        ...        ...      ...         ...      ...      ...      ...   \n",
       "tme        0.0        0.0      0.0         0.0      1.0      0.0      0.0   \n",
       "سخ         0.0        0.0     32.0         0.0      0.0      0.0      0.0   \n",
       "pé_        0.0        0.0      0.0         0.0      0.0      0.0      0.0   \n",
       "ük         0.0        0.0      0.0         0.0      0.0      0.0      0.0   \n",
       "ён         0.0        0.0      0.0         0.0     31.0      0.0      0.0   \n",
       "\n",
       "       Tamil  \n",
       "token         \n",
       "ζει      0.0  \n",
       "_эк      0.0  \n",
       "änt      0.0  \n",
       "çu_      0.0  \n",
       "r_c      0.0  \n",
       "...      ...  \n",
       "tme      0.0  \n",
       "سخ       0.0  \n",
       "pé_      0.0  \n",
       "ük       0.0  \n",
       "ён       0.0  \n",
       "\n",
       "[100 rows x 17 columns]"
      ]
     },
     "execution_count": 12,
     "metadata": {},
     "output_type": "execute_result"
    }
   ],
   "source": [
    "# number of times each token appears across all classes\n",
    "\n",
    "params_dic = {'token':cv.get_feature_names()}\n",
    "params_dic.update({le.inverse_transform([i])[0]:modelMNB.feature_count_[i,:] for i in range(17)})\n",
    "tokens = pd.DataFrame(params_dic).set_index('token')\n",
    "tokens.sample(100)"
   ]
  },
  {
   "cell_type": "code",
   "execution_count": 13,
   "metadata": {
    "colab": {
     "base_uri": "https://localhost:8080/",
     "height": 132
    },
    "id": "-Xcq0-C5bmGX",
    "outputId": "0775e636-74bc-4782-fd3e-c786b9704614"
   },
   "outputs": [
    {
     "data": {
      "text/html": [
       "<div>\n",
       "<style scoped>\n",
       "    .dataframe tbody tr th:only-of-type {\n",
       "        vertical-align: middle;\n",
       "    }\n",
       "\n",
       "    .dataframe tbody tr th {\n",
       "        vertical-align: top;\n",
       "    }\n",
       "\n",
       "    .dataframe thead th {\n",
       "        text-align: right;\n",
       "    }\n",
       "</style>\n",
       "<table border=\"1\" class=\"dataframe\">\n",
       "  <thead>\n",
       "    <tr style=\"text-align: right;\">\n",
       "      <th></th>\n",
       "      <th>0</th>\n",
       "      <th>1</th>\n",
       "      <th>2</th>\n",
       "      <th>3</th>\n",
       "      <th>4</th>\n",
       "      <th>5</th>\n",
       "      <th>6</th>\n",
       "      <th>7</th>\n",
       "      <th>8</th>\n",
       "      <th>9</th>\n",
       "      <th>10</th>\n",
       "      <th>11</th>\n",
       "      <th>12</th>\n",
       "      <th>13</th>\n",
       "      <th>14</th>\n",
       "      <th>15</th>\n",
       "      <th>16</th>\n",
       "      <th>17</th>\n",
       "    </tr>\n",
       "  </thead>\n",
       "  <tbody>\n",
       "    <tr>\n",
       "      <th>language</th>\n",
       "      <td>Arabic</td>\n",
       "      <td>Danish</td>\n",
       "      <td>Dutch</td>\n",
       "      <td>English</td>\n",
       "      <td>French</td>\n",
       "      <td>German</td>\n",
       "      <td>Greek</td>\n",
       "      <td>Hindi</td>\n",
       "      <td>Italian</td>\n",
       "      <td>Kannada</td>\n",
       "      <td>Malayalam</td>\n",
       "      <td>Persian</td>\n",
       "      <td>Portuguese</td>\n",
       "      <td>Russian</td>\n",
       "      <td>Spanish</td>\n",
       "      <td>Swedish</td>\n",
       "      <td>Tamil</td>\n",
       "      <td>Turkish</td>\n",
       "    </tr>\n",
       "    <tr>\n",
       "      <th>#samples</th>\n",
       "      <td>432.0</td>\n",
       "      <td>337.0</td>\n",
       "      <td>439.0</td>\n",
       "      <td>1093.0</td>\n",
       "      <td>820.0</td>\n",
       "      <td>377.0</td>\n",
       "      <td>293.0</td>\n",
       "      <td>48.0</td>\n",
       "      <td>574.0</td>\n",
       "      <td>302.0</td>\n",
       "      <td>461.0</td>\n",
       "      <td>368.0</td>\n",
       "      <td>614.0</td>\n",
       "      <td>547.0</td>\n",
       "      <td>656.0</td>\n",
       "      <td>534.0</td>\n",
       "      <td>364.0</td>\n",
       "      <td>383.0</td>\n",
       "    </tr>\n",
       "  </tbody>\n",
       "</table>\n",
       "</div>"
      ],
      "text/plain": [
       "              0       1      2        3       4       5      6      7   \\\n",
       "language  Arabic  Danish  Dutch  English  French  German  Greek  Hindi   \n",
       "#samples   432.0   337.0  439.0   1093.0   820.0   377.0  293.0   48.0   \n",
       "\n",
       "               8        9          10       11          12       13       14  \\\n",
       "language  Italian  Kannada  Malayalam  Persian  Portuguese  Russian  Spanish   \n",
       "#samples    574.0    302.0      461.0    368.0       614.0    547.0    656.0   \n",
       "\n",
       "               15     16       17  \n",
       "language  Swedish  Tamil  Turkish  \n",
       "#samples    534.0  364.0    383.0  "
      ]
     },
     "execution_count": 13,
     "metadata": {},
     "output_type": "execute_result"
    }
   ],
   "source": [
    "# number of sample in each class of trained model\n",
    "\n",
    "params_dic = {'language': [le.inverse_transform([i])[0] for i in range(len(le.classes_))], \n",
    "              '#samples': modelMNB.class_count_ }\n",
    "langs = pd.DataFrame(params_dic)\n",
    "langs.T"
   ]
  },
  {
   "cell_type": "code",
   "execution_count": 14,
   "metadata": {
    "colab": {
     "base_uri": "https://localhost:8080/",
     "height": 461
    },
    "id": "U0N6FcXmbmGX",
    "outputId": "6813aea2-44a8-4321-eb10-00d80508f634"
   },
   "outputs": [
    {
     "data": {
      "text/html": [
       "<div>\n",
       "<style scoped>\n",
       "    .dataframe tbody tr th:only-of-type {\n",
       "        vertical-align: middle;\n",
       "    }\n",
       "\n",
       "    .dataframe tbody tr th {\n",
       "        vertical-align: top;\n",
       "    }\n",
       "\n",
       "    .dataframe thead th {\n",
       "        text-align: right;\n",
       "    }\n",
       "</style>\n",
       "<table border=\"1\" class=\"dataframe\">\n",
       "  <thead>\n",
       "    <tr style=\"text-align: right;\">\n",
       "      <th></th>\n",
       "      <th>_a</th>\n",
       "      <th>_a_</th>\n",
       "      <th>_aa</th>\n",
       "      <th>_ab</th>\n",
       "      <th>_ac</th>\n",
       "      <th>_ad</th>\n",
       "      <th>_af</th>\n",
       "      <th>_ag</th>\n",
       "      <th>_ah</th>\n",
       "      <th>_ai</th>\n",
       "      <th>...</th>\n",
       "      <th>’e</th>\n",
       "      <th>’en</th>\n",
       "      <th>’es</th>\n",
       "      <th>’i</th>\n",
       "      <th>’id</th>\n",
       "      <th>’in</th>\n",
       "      <th>’o</th>\n",
       "      <th>’u</th>\n",
       "      <th>’é</th>\n",
       "      <th>…_</th>\n",
       "    </tr>\n",
       "  </thead>\n",
       "  <tbody>\n",
       "    <tr>\n",
       "      <th>0</th>\n",
       "      <td>1</td>\n",
       "      <td>0</td>\n",
       "      <td>0</td>\n",
       "      <td>0</td>\n",
       "      <td>0</td>\n",
       "      <td>0</td>\n",
       "      <td>0</td>\n",
       "      <td>0</td>\n",
       "      <td>0</td>\n",
       "      <td>0</td>\n",
       "      <td>...</td>\n",
       "      <td>0</td>\n",
       "      <td>0</td>\n",
       "      <td>0</td>\n",
       "      <td>0</td>\n",
       "      <td>0</td>\n",
       "      <td>0</td>\n",
       "      <td>0</td>\n",
       "      <td>0</td>\n",
       "      <td>0</td>\n",
       "      <td>0</td>\n",
       "    </tr>\n",
       "    <tr>\n",
       "      <th>1</th>\n",
       "      <td>0</td>\n",
       "      <td>0</td>\n",
       "      <td>0</td>\n",
       "      <td>0</td>\n",
       "      <td>0</td>\n",
       "      <td>0</td>\n",
       "      <td>0</td>\n",
       "      <td>0</td>\n",
       "      <td>0</td>\n",
       "      <td>0</td>\n",
       "      <td>...</td>\n",
       "      <td>0</td>\n",
       "      <td>0</td>\n",
       "      <td>0</td>\n",
       "      <td>0</td>\n",
       "      <td>0</td>\n",
       "      <td>0</td>\n",
       "      <td>0</td>\n",
       "      <td>0</td>\n",
       "      <td>0</td>\n",
       "      <td>0</td>\n",
       "    </tr>\n",
       "    <tr>\n",
       "      <th>2</th>\n",
       "      <td>0</td>\n",
       "      <td>0</td>\n",
       "      <td>0</td>\n",
       "      <td>0</td>\n",
       "      <td>0</td>\n",
       "      <td>0</td>\n",
       "      <td>0</td>\n",
       "      <td>0</td>\n",
       "      <td>0</td>\n",
       "      <td>0</td>\n",
       "      <td>...</td>\n",
       "      <td>0</td>\n",
       "      <td>0</td>\n",
       "      <td>0</td>\n",
       "      <td>0</td>\n",
       "      <td>0</td>\n",
       "      <td>0</td>\n",
       "      <td>0</td>\n",
       "      <td>0</td>\n",
       "      <td>0</td>\n",
       "      <td>0</td>\n",
       "    </tr>\n",
       "    <tr>\n",
       "      <th>3</th>\n",
       "      <td>2</td>\n",
       "      <td>1</td>\n",
       "      <td>0</td>\n",
       "      <td>0</td>\n",
       "      <td>0</td>\n",
       "      <td>0</td>\n",
       "      <td>0</td>\n",
       "      <td>0</td>\n",
       "      <td>0</td>\n",
       "      <td>0</td>\n",
       "      <td>...</td>\n",
       "      <td>0</td>\n",
       "      <td>0</td>\n",
       "      <td>0</td>\n",
       "      <td>0</td>\n",
       "      <td>0</td>\n",
       "      <td>0</td>\n",
       "      <td>0</td>\n",
       "      <td>0</td>\n",
       "      <td>0</td>\n",
       "      <td>0</td>\n",
       "    </tr>\n",
       "    <tr>\n",
       "      <th>4</th>\n",
       "      <td>0</td>\n",
       "      <td>0</td>\n",
       "      <td>0</td>\n",
       "      <td>0</td>\n",
       "      <td>0</td>\n",
       "      <td>0</td>\n",
       "      <td>0</td>\n",
       "      <td>0</td>\n",
       "      <td>0</td>\n",
       "      <td>0</td>\n",
       "      <td>...</td>\n",
       "      <td>0</td>\n",
       "      <td>0</td>\n",
       "      <td>0</td>\n",
       "      <td>0</td>\n",
       "      <td>0</td>\n",
       "      <td>0</td>\n",
       "      <td>0</td>\n",
       "      <td>0</td>\n",
       "      <td>0</td>\n",
       "      <td>0</td>\n",
       "    </tr>\n",
       "    <tr>\n",
       "      <th>...</th>\n",
       "      <td>...</td>\n",
       "      <td>...</td>\n",
       "      <td>...</td>\n",
       "      <td>...</td>\n",
       "      <td>...</td>\n",
       "      <td>...</td>\n",
       "      <td>...</td>\n",
       "      <td>...</td>\n",
       "      <td>...</td>\n",
       "      <td>...</td>\n",
       "      <td>...</td>\n",
       "      <td>...</td>\n",
       "      <td>...</td>\n",
       "      <td>...</td>\n",
       "      <td>...</td>\n",
       "      <td>...</td>\n",
       "      <td>...</td>\n",
       "      <td>...</td>\n",
       "      <td>...</td>\n",
       "      <td>...</td>\n",
       "      <td>...</td>\n",
       "    </tr>\n",
       "    <tr>\n",
       "      <th>2156</th>\n",
       "      <td>0</td>\n",
       "      <td>0</td>\n",
       "      <td>0</td>\n",
       "      <td>0</td>\n",
       "      <td>0</td>\n",
       "      <td>0</td>\n",
       "      <td>0</td>\n",
       "      <td>0</td>\n",
       "      <td>0</td>\n",
       "      <td>0</td>\n",
       "      <td>...</td>\n",
       "      <td>0</td>\n",
       "      <td>0</td>\n",
       "      <td>0</td>\n",
       "      <td>0</td>\n",
       "      <td>0</td>\n",
       "      <td>0</td>\n",
       "      <td>0</td>\n",
       "      <td>0</td>\n",
       "      <td>0</td>\n",
       "      <td>0</td>\n",
       "    </tr>\n",
       "    <tr>\n",
       "      <th>2157</th>\n",
       "      <td>0</td>\n",
       "      <td>0</td>\n",
       "      <td>0</td>\n",
       "      <td>0</td>\n",
       "      <td>0</td>\n",
       "      <td>0</td>\n",
       "      <td>0</td>\n",
       "      <td>0</td>\n",
       "      <td>0</td>\n",
       "      <td>0</td>\n",
       "      <td>...</td>\n",
       "      <td>0</td>\n",
       "      <td>0</td>\n",
       "      <td>0</td>\n",
       "      <td>0</td>\n",
       "      <td>0</td>\n",
       "      <td>0</td>\n",
       "      <td>0</td>\n",
       "      <td>0</td>\n",
       "      <td>0</td>\n",
       "      <td>0</td>\n",
       "    </tr>\n",
       "    <tr>\n",
       "      <th>2158</th>\n",
       "      <td>8</td>\n",
       "      <td>1</td>\n",
       "      <td>0</td>\n",
       "      <td>0</td>\n",
       "      <td>0</td>\n",
       "      <td>0</td>\n",
       "      <td>0</td>\n",
       "      <td>0</td>\n",
       "      <td>0</td>\n",
       "      <td>0</td>\n",
       "      <td>...</td>\n",
       "      <td>0</td>\n",
       "      <td>0</td>\n",
       "      <td>0</td>\n",
       "      <td>0</td>\n",
       "      <td>0</td>\n",
       "      <td>0</td>\n",
       "      <td>0</td>\n",
       "      <td>0</td>\n",
       "      <td>0</td>\n",
       "      <td>0</td>\n",
       "    </tr>\n",
       "    <tr>\n",
       "      <th>2159</th>\n",
       "      <td>0</td>\n",
       "      <td>0</td>\n",
       "      <td>0</td>\n",
       "      <td>0</td>\n",
       "      <td>0</td>\n",
       "      <td>0</td>\n",
       "      <td>0</td>\n",
       "      <td>0</td>\n",
       "      <td>0</td>\n",
       "      <td>0</td>\n",
       "      <td>...</td>\n",
       "      <td>0</td>\n",
       "      <td>0</td>\n",
       "      <td>0</td>\n",
       "      <td>0</td>\n",
       "      <td>0</td>\n",
       "      <td>0</td>\n",
       "      <td>0</td>\n",
       "      <td>0</td>\n",
       "      <td>0</td>\n",
       "      <td>0</td>\n",
       "    </tr>\n",
       "    <tr>\n",
       "      <th>2160</th>\n",
       "      <td>1</td>\n",
       "      <td>0</td>\n",
       "      <td>0</td>\n",
       "      <td>0</td>\n",
       "      <td>1</td>\n",
       "      <td>0</td>\n",
       "      <td>0</td>\n",
       "      <td>0</td>\n",
       "      <td>0</td>\n",
       "      <td>0</td>\n",
       "      <td>...</td>\n",
       "      <td>0</td>\n",
       "      <td>0</td>\n",
       "      <td>0</td>\n",
       "      <td>0</td>\n",
       "      <td>0</td>\n",
       "      <td>0</td>\n",
       "      <td>0</td>\n",
       "      <td>0</td>\n",
       "      <td>0</td>\n",
       "      <td>0</td>\n",
       "    </tr>\n",
       "  </tbody>\n",
       "</table>\n",
       "<p>2161 rows × 22728 columns</p>\n",
       "</div>"
      ],
      "text/plain": [
       "      _a  _a_  _aa  _ab  _ac  _ad  _af  _ag  _ah  _ai  ...  ’e  ’en  ’es  ’i  \\\n",
       "0      1    0    0    0    0    0    0    0    0    0  ...   0    0    0   0   \n",
       "1      0    0    0    0    0    0    0    0    0    0  ...   0    0    0   0   \n",
       "2      0    0    0    0    0    0    0    0    0    0  ...   0    0    0   0   \n",
       "3      2    1    0    0    0    0    0    0    0    0  ...   0    0    0   0   \n",
       "4      0    0    0    0    0    0    0    0    0    0  ...   0    0    0   0   \n",
       "...   ..  ...  ...  ...  ...  ...  ...  ...  ...  ...  ...  ..  ...  ...  ..   \n",
       "2156   0    0    0    0    0    0    0    0    0    0  ...   0    0    0   0   \n",
       "2157   0    0    0    0    0    0    0    0    0    0  ...   0    0    0   0   \n",
       "2158   8    1    0    0    0    0    0    0    0    0  ...   0    0    0   0   \n",
       "2159   0    0    0    0    0    0    0    0    0    0  ...   0    0    0   0   \n",
       "2160   1    0    0    0    1    0    0    0    0    0  ...   0    0    0   0   \n",
       "\n",
       "      ’id  ’in  ’o  ’u  ’é  …_  \n",
       "0       0    0   0   0   0   0  \n",
       "1       0    0   0   0   0   0  \n",
       "2       0    0   0   0   0   0  \n",
       "3       0    0   0   0   0   0  \n",
       "4       0    0   0   0   0   0  \n",
       "...   ...  ...  ..  ..  ..  ..  \n",
       "2156    0    0   0   0   0   0  \n",
       "2157    0    0   0   0   0   0  \n",
       "2158    0    0   0   0   0   0  \n",
       "2159    0    0   0   0   0   0  \n",
       "2160    0    0   0   0   0   0  \n",
       "\n",
       "[2161 rows x 22728 columns]"
      ]
     },
     "execution_count": 14,
     "metadata": {},
     "output_type": "execute_result"
    }
   ],
   "source": [
    "#model = pickle.load(open('model.pkl', 'rb'))\n",
    "pd.DataFrame(x_test, columns=cv.get_feature_names())\n",
    "#cv.get_feature_names()[0], cv.get_feature_names()[1] "
   ]
  },
  {
   "cell_type": "code",
   "execution_count": 15,
   "metadata": {
    "id": "Q-nNiasBbmGX"
   },
   "outputs": [],
   "source": [
    "# Prediction \n",
    "y_pred = modelMNB.predict(x_test)"
   ]
  },
  {
   "cell_type": "markdown",
   "metadata": {
    "id": "H--wLtfibmGX"
   },
   "source": [
    "### Evaluating the MNB model"
   ]
  },
  {
   "cell_type": "code",
   "execution_count": 16,
   "metadata": {
    "id": "a8MWqm9IbmGY"
   },
   "outputs": [],
   "source": [
    "from sklearn.metrics import accuracy_score, confusion_matrix, classification_report, f1_score\n",
    "\n",
    "ac = accuracy_score(y_test, y_pred)\n",
    "cm = confusion_matrix(y_test, y_pred)\n",
    "cr = classification_report(y_test, y_pred, target_names=np.unique(le.inverse_transform(y_test)))"
   ]
  },
  {
   "cell_type": "code",
   "execution_count": 17,
   "metadata": {
    "colab": {
     "base_uri": "https://localhost:8080/"
    },
    "id": "HMMl8fkQbmGY",
    "outputId": "bec0e7d7-e9f6-4e37-ab68-ccd5ac904ca7"
   },
   "outputs": [
    {
     "name": "stdout",
     "output_type": "stream",
     "text": [
      "Accuracy is : 0.985192040721888\n"
     ]
    }
   ],
   "source": [
    "print(\"Accuracy is :\",ac)"
   ]
  },
  {
   "cell_type": "code",
   "execution_count": 18,
   "metadata": {
    "colab": {
     "base_uri": "https://localhost:8080/"
    },
    "id": "35t3yAJ7bmGY",
    "outputId": "a7414dea-8ce4-47c4-a48d-68be6cc8572c"
   },
   "outputs": [
    {
     "name": "stdout",
     "output_type": "stream",
     "text": [
      "              precision    recall  f1-score   support\n",
      "\n",
      "      Arabic       1.00      0.98      0.99       104\n",
      "      Danish       1.00      0.90      0.95        91\n",
      "       Dutch       0.98      0.99      0.99       107\n",
      "     English       0.98      0.99      0.99       292\n",
      "      French       0.97      0.99      0.98       194\n",
      "      German       0.99      0.99      0.99        93\n",
      "       Greek       1.00      1.00      1.00        72\n",
      "       Hindi       1.00      1.00      1.00        15\n",
      "     Italian       0.96      0.98      0.97       124\n",
      "     Kannada       1.00      1.00      1.00        67\n",
      "   Malayalam       1.00      1.00      1.00       133\n",
      "     Persian       0.99      1.00      0.99        98\n",
      "  Portuguese       0.98      0.98      0.98       125\n",
      "     Russian       1.00      1.00      1.00       145\n",
      "     Spanish       0.99      0.95      0.97       163\n",
      "     Swedish       0.95      0.99      0.97       142\n",
      "       Tamil       1.00      1.00      1.00       105\n",
      "     Turkish       0.99      0.99      0.99        91\n",
      "\n",
      "    accuracy                           0.99      2161\n",
      "   macro avg       0.99      0.99      0.99      2161\n",
      "weighted avg       0.99      0.99      0.99      2161\n",
      "\n"
     ]
    }
   ],
   "source": [
    "# classification report\n",
    "print(cr)"
   ]
  },
  {
   "cell_type": "code",
   "execution_count": 19,
   "metadata": {
    "colab": {
     "base_uri": "https://localhost:8080/",
     "height": 366
    },
    "id": "BjT3OxRIbmGY",
    "outputId": "ff257e3f-3399-4af5-a1ac-5ee2d4ebd4fe",
    "scrolled": true
   },
   "outputs": [
    {
     "data": {
      "image/png": "[encoded data removed]",
      "text/plain": [
       "<Figure size 504x360 with 2 Axes>"
      ]
     },
     "metadata": {
      "needs_background": "light"
     },
     "output_type": "display_data"
    }
   ],
   "source": [
    "# visualising the confusion matrix\n",
    "\n",
    "import seaborn as sns\n",
    "\n",
    "labels = pd.DataFrame(cm).applymap(lambda v: f\"{v}\" if v!=0 else f\"\")\n",
    "ticks = np.unique(le.inverse_transform(y_test))\n",
    "plt.figure(figsize=(7,5))\n",
    "sns.heatmap(cm, annot=labels, fmt='s', xticklabels=ticks, yticklabels=ticks, linewidths=0 )\n",
    "plt.savefig('confusionMat.pdf', dpi=600)\n",
    "plt.show()"
   ]
  },
  {
   "cell_type": "code",
   "execution_count": 20,
   "metadata": {
    "colab": {
     "base_uri": "https://localhost:8080/"
    },
    "id": "4XhbaPxW5ZYe",
    "outputId": "6597f8ce-c74f-4770-ef0d-60af81ef5103"
   },
   "outputs": [
    {
     "data": {
      "text/plain": [
       "array(['English', 'Arabic', 'Persian', 'Swedish', 'Italian', 'German'],\n",
       "      dtype=object)"
      ]
     },
     "execution_count": 20,
     "metadata": {},
     "output_type": "execute_result"
    }
   ],
   "source": [
    "s = [\"this is test for 4th.\", \"أي تغيير  يتلاعب  بطريقة  بشكل  بسلامة يعتبر\", \"امروز هوا بارانی است.\"\n",
    "     ,\"Eftersom Wikipedia bygger på tidskriftsartiklar, forskningspublikationer och böcker finns risk för rundgång \"\n",
    "     ,\"loro tre erano amiche da secoli, ma Terry ed Ellie avevano un segreto entrambe.\"\n",
    "     ,\"ih\"]\n",
    "sv = cv.transform(s).toarray()\n",
    "l = modelMNB.predict(sv)\n",
    "le.inverse_transform(l)"
   ]
  },
  {
   "cell_type": "markdown",
   "metadata": {
    "id": "wGQw4gu5bmGY"
   },
   "source": [
    "### Model Saving"
   ]
  },
  {
   "cell_type": "code",
   "execution_count": 21,
   "metadata": {
    "id": "0K6i_htmbmGZ"
   },
   "outputs": [],
   "source": [
    "# saving both cv and nbmodel\n",
    "\n",
    "#import pickle\n",
    "\n",
    "#pickle.dump(cv, open(\"transform.pkl\", \"wb\"))\n",
    "#pickle.dump(model, open(\"model.pkl\", \"wb\"))"
   ]
  },
  {
   "cell_type": "markdown",
   "metadata": {
    "id": "-vf4RbKDbmGZ"
   },
   "source": [
    "## Neural Network model"
   ]
  },
  {
   "cell_type": "code",
   "execution_count": 22,
   "metadata": {
    "id": "24HTS2mCbmGa"
   },
   "outputs": [],
   "source": [
    "import torch\n",
    "import torch.nn as nn\n",
    "import torch.nn.functional as F\n",
    "from torchsummary import summary\n",
    "\n",
    "device = torch.device(\"cuda\" if torch.cuda.is_available() else \"cpu\")"
   ]
  },
  {
   "cell_type": "code",
   "execution_count": 23,
   "metadata": {
    "id": "8fnYj7RWKBFI"
   },
   "outputs": [],
   "source": [
    "from collections import Counter, defaultdict\n",
    "import math, time\n",
    "\n",
    "def timeSince(since):\n",
    "    now = time.time()\n",
    "    s = now - since\n",
    "    m = math.floor(s / 60)\n",
    "    s -= m * 60\n",
    "    return '%dm %ds' % (m, s)"
   ]
  },
  {
   "cell_type": "code",
   "execution_count": 24,
   "metadata": {
    "id": "8N06zDLK89Fd"
   },
   "outputs": [
    {
     "name": "stdout",
     "output_type": "stream",
     "text": [
      "----------------------------------------------------------------\n",
      "        Layer (type)               Output Shape         Param #\n",
      "================================================================\n",
      "            Linear-1                   [-1, 72]       1,636,488\n",
      "              ReLU-2                   [-1, 72]               0\n",
      "           Dropout-3                   [-1, 72]               0\n",
      "            Linear-4                   [-1, 18]           1,314\n",
      "              ReLU-5                   [-1, 18]               0\n",
      "================================================================\n",
      "Total params: 1,637,802\n",
      "Trainable params: 1,637,802\n",
      "Non-trainable params: 0\n",
      "----------------------------------------------------------------\n",
      "Input size (MB): 0.09\n",
      "Forward/backward pass size (MB): 0.00\n",
      "Params size (MB): 6.25\n",
      "Estimated Total Size (MB): 6.34\n",
      "----------------------------------------------------------------\n"
     ]
    }
   ],
   "source": [
    "\n",
    "class Net(nn.Module):\n",
    "  def __init__(self, input_size, output_size, dropout=0.6):\n",
    "    super(Net, self).__init__()\n",
    "    self.linear_relu_stack = nn.Sequential(\n",
    "            nn.Linear(input_size, output_size*4),\n",
    "            nn.ReLU(), nn.Dropout(dropout),\n",
    "            nn.Linear(output_size*4, output_size),\n",
    "            nn.ReLU()\n",
    "    )\n",
    "\n",
    "  def forward(self, x):\n",
    "    return self.linear_relu_stack(x)\n",
    "\n",
    "input_size = len(cv.vocabulary_)\n",
    "output_size = len(le.classes_)\n",
    "\n",
    "summary(Net(input_size, output_size), input_size=(input_size,), batch_size=-1,  device='cpu')"
   ]
  },
  {
   "cell_type": "code",
   "execution_count": 32,
   "metadata": {
    "id": "rFxoq8ItBe6l"
   },
   "outputs": [
    {
     "name": "stdout",
     "output_type": "stream",
     "text": [
      "Training Starts ...\n",
      "====> Epoch [  0] Train/Validation loss: 18.251152307/0.309438944 :: Accuracy:  87.500/ 94.169, F1 Scores: 0.856/0.929\n",
      "====> Epoch [  1] Train/Validation loss: 5.206404939/0.225673527 :: Accuracy:  92.773/ 93.707, F1 Scores: 0.906/0.915\n",
      "====> Epoch [  2] Train/Validation loss: 4.054343671/0.206812605 :: Accuracy:  93.359/ 94.123, F1 Scores: 0.912/0.922\n",
      "====> Epoch [  3] Train/Validation loss: 3.515090108/0.199391216 :: Accuracy:  94.141/ 94.077, F1 Scores: 0.920/0.919\n",
      "====> Epoch [  4] Train/Validation loss: 3.398498446/0.194962174 :: Accuracy:  93.555/ 94.031, F1 Scores: 0.914/0.921\n",
      "====> Epoch [  5] Train/Validation loss: 2.795879781/0.076865211 :: Accuracy:  99.219/ 98.565, F1 Scores: 0.992/0.986\n",
      "====> Epoch [  6] Train/Validation loss: 1.852601375/0.062903292 :: Accuracy:  98.828/ 98.565, F1 Scores: 0.988/0.986\n",
      "====> Epoch [  7] Train/Validation loss: 1.419134516/0.057919454 :: Accuracy:  98.828/ 98.658, F1 Scores: 0.988/0.987\n",
      "====> Epoch [  8] Train/Validation loss: 1.128624368/0.060304660 :: Accuracy:  99.219/ 98.427, F1 Scores: 0.992/0.984\n",
      "====> Epoch [  9] Train/Validation loss: 1.247581234/0.056500051 :: Accuracy:  98.438/ 98.565, F1 Scores: 0.984/0.986\n",
      "====> Epoch [ 10] Train/Validation loss: 0.611779075/0.059669182 :: Accuracy:  99.219/ 98.612, F1 Scores: 0.992/0.986\n",
      "====> Epoch [ 11] Train/Validation loss: 0.749018189/0.054854345 :: Accuracy:  99.609/ 98.658, F1 Scores: 0.996/0.987\n",
      "====> Epoch [ 12] Train/Validation loss: 0.539802834/0.057655830 :: Accuracy:  99.414/ 98.612, F1 Scores: 0.994/0.986\n",
      "====> Epoch [ 13] Train/Validation loss: 0.598697163/0.058924638 :: Accuracy:  99.805/ 98.797, F1 Scores: 0.998/0.988\n",
      "====> Epoch [ 14] Train/Validation loss: 0.428433879/0.055924386 :: Accuracy:  99.023/ 98.658, F1 Scores: 0.990/0.987\n",
      "====> Epoch [ 15] Train/Validation loss: 0.485140602/0.060069878 :: Accuracy:  99.805/ 98.612, F1 Scores: 0.998/0.986\n",
      "====> Epoch [ 16] Train/Validation loss: 0.368990171/0.057557136 :: Accuracy:  99.219/ 98.658, F1 Scores: 0.992/0.987\n",
      "====> Epoch [ 17] Train/Validation loss: 0.541534033/0.059010942 :: Accuracy: 100.000/ 98.565, F1 Scores: 1.000/0.986\n",
      "====> Epoch [ 18] Train/Validation loss: 0.434140301/0.061792780 :: Accuracy: 100.000/ 98.565, F1 Scores: 1.000/0.986\n",
      "Training ends at 0m 10s\n"
     ]
    }
   ],
   "source": [
    "def fwd_pass(X, y, net, loss_function, optimizer, train=False):\n",
    "    if train: net.train()\n",
    "    else:     net.eval()\n",
    "\n",
    "    outputs = net(X)\n",
    "    with torch.no_grad():\n",
    "      out = outputs.argmax(dim=1)\n",
    "      acc = accuracy_score(y.cpu(), out.cpu())\n",
    "      f1 = f1_score(y.cpu(), out.cpu(), average=\"weighted\")\n",
    "    loss = loss_function(outputs, y)\n",
    "\n",
    "    if train:\n",
    "      optimizer.zero_grad()\n",
    "      loss.backward()\n",
    "      optimizer.step()\n",
    "\n",
    "    return loss, acc, f1\n",
    "\n",
    "\n",
    "X_test = torch.tensor(x_test, dtype=torch.float).to(device)\n",
    "Y_test = torch.tensor(y_test, dtype=torch.long).to(device)\n",
    "\n",
    "lr = 0.01\n",
    "epochs = 18\n",
    "batch = 512\n",
    "\n",
    "input_size = len(cv.vocabulary_)\n",
    "output_size = len(le.classes_)\n",
    "modelNN = Net(input_size, output_size).to(device)\n",
    "\n",
    "optimizer = torch.optim.Adam(modelNN.parameters(), lr=lr)\n",
    "criterion = nn.CrossEntropyLoss()\n",
    "\n",
    "print_every = epochs//10\n",
    "train_losses, val_losses = [], []\n",
    "accuracies, val_accuracies = [], []\n",
    "f1s, val_f1s = [], []\n",
    "\n",
    "\n",
    "torch.manual_seed(1234)\n",
    "\n",
    "start = time.time()\n",
    "print(f'Training Starts ...')\n",
    "n =  batch * int(len(x_train)/batch)\n",
    "for epoch in range(epochs+1):\n",
    "    train_loss, test_loss = 0, 0\n",
    "    for i in range(int(len(x_train)/batch)):\n",
    "        print(f'\\rCycle{i:3} from {int(len(x_train)/batch):3} in epoch {epoch:3}', end='')\n",
    "        loss, acc, f1 = fwd_pass(\n",
    "            torch.tensor(x_train[(i) * batch: (i+1) * batch], dtype=torch.float).view(batch, -1).to(device), # X\n",
    "            torch.tensor(y_train[(i)*batch:(i+1)*batch], dtype=torch.long).to(device), # Y\n",
    "            modelNN, criterion, optimizer, True)\n",
    "        train_loss += loss.item()\n",
    "\n",
    "    train_losses.append(train_loss)\n",
    "    accuracies.append(acc)\n",
    "    f1s.append(f1)\n",
    "    \n",
    "    val_loss, val_acc, val_f1 = fwd_pass(X_test, Y_test, modelNN, criterion, optimizer, False)\n",
    "    val_accuracies.append(val_acc)\n",
    "    val_losses.append(val_loss.item())\n",
    "    val_f1s.append(val_f1)\n",
    "\n",
    "    if epoch <= 3 or epoch%print_every==0: \n",
    "        print(f'\\r====> Epoch [{epoch:3}] Train/Validation loss: {train_loss:.9f}/{val_loss:.9f} :: Accuracy: {acc*100:7.3f}/{val_acc*100:7.3f}, F1 Scores: {f1:.3f}/{val_f1:.3f}')\n",
    "\n",
    "        \n",
    "print(f\"Training ends at {timeSince(start)}\")"
   ]
  },
  {
   "cell_type": "code",
   "execution_count": 33,
   "metadata": {
    "id": "daMiXZmnNrIR"
   },
   "outputs": [
    {
     "name": "stdout",
     "output_type": "stream",
     "text": [
      "Using matplotlib backend: agg\n",
      "Populating the interactive namespace from numpy and matplotlib\n"
     ]
    },
    {
     "data": {
      "image/png": "[encoded data removed]",
      "text/plain": [
       "<Figure size 1224x432 with 2 Axes>"
      ]
     },
     "metadata": {
      "needs_background": "light"
     },
     "output_type": "display_data"
    },
    {
     "data": {
      "image/png": "[encoded data removed]",
      "text/plain": [
       "<Figure size 1224x432 with 2 Axes>"
      ]
     },
     "metadata": {
      "needs_background": "light"
     },
     "output_type": "display_data"
    },
    {
     "data": {
      "text/plain": [
       "(None,)"
      ]
     },
     "execution_count": 33,
     "metadata": {},
     "output_type": "execute_result"
    }
   ],
   "source": [
    "%pylab\n",
    "%matplotlib inline\n",
    "\n",
    "def res_plot(plotdata, xlabel='epoch', ylabel='losses', legend=['Train','Valid'], title=''):\n",
    "    fig, (ax1, ax2) = plt.subplots(1,2, figsize = (17,6))\n",
    "    ax1.set_ylabel(ylabel)\n",
    "    for ax in (ax1, ax2):\n",
    "        n = 10 if ax==ax2 else 0\n",
    "        x = range(epochs-n+1, epoch+1) if ax==ax2 else range(epochs+1)\n",
    "        title = f\"{title} ({n} last values)\" if ax==ax2 else title\n",
    "        ax.set_xlabel(xlabel)\n",
    "        ax.set_title(title)\n",
    "        ax.plot(x, plotdata[0][-n:], '-o', label=legend[0])\n",
    "        ax.plot(x, plotdata[1][-n:], '-o', label=legend[1])\n",
    "        ax.legend()\n",
    "    plt.show()\n",
    "\n",
    "\n",
    "res_plot([(train_losses), (val_losses)], title='Train vs Valid Losses')\n",
    "res_plot([accuracies, val_accuracies], ylabel='Accuracy', title='Train vs Valid Accuracies'), "
   ]
  },
  {
   "cell_type": "code",
   "execution_count": 27,
   "metadata": {
    "id": "ghHelYxyI12u"
   },
   "outputs": [
    {
     "name": "stdout",
     "output_type": "stream",
     "text": [
      "Accuracy is 0.949560388708931\n",
      "f1-score is 0.9331950438972547\n"
     ]
    },
    {
     "data": {
      "image/png": "[encoded data removed]",
      "text/plain": [
       "<Figure size 720x576 with 2 Axes>"
      ]
     },
     "metadata": {
      "needs_background": "light"
     },
     "output_type": "display_data"
    }
   ],
   "source": [
    "modelNN.eval()\n",
    "out = modelNN(X_test).to(device)\n",
    "out = out.argmax(dim=1)\n",
    "accuracy = accuracy_score(y_test, out.cpu())\n",
    "f1score = f1_score(Y_test.cpu(), out.cpu(), average='weighted')\n",
    "print(f\"Accuracy is {accuracy}\\nf1-score is {f1score}\")    \n",
    "\n",
    "conf_matrix = confusion_matrix(y_pred=out.cpu(), y_true=y_test)\n",
    "ticks = [le.inverse_transform([j])[0] for j in range(len(le.classes_))]\n",
    "df_cm = pd.DataFrame(conf_matrix, columns=ticks , index=ticks)\n",
    "df_cm.index.name = 'Actual'\n",
    "df_cm.columns.name = 'Predicted'\n",
    "plt.figure(figsize = (10,8))\n",
    "sns.set(font_scale = .8)\n",
    "labels = pd.DataFrame(df_cm).applymap(lambda v: f\"{v}\" if v!=0 else f\"\")\n",
    "sns.heatmap(df_cm,annot=labels,fmt=\"s\",linewidths=.5)\n",
    "plt.show()"
   ]
  },
  {
   "cell_type": "markdown",
   "metadata": {
    "id": "vPUPhDHSCuNL"
   },
   "source": [
    "# Evaluating the accuracy of Neural Network model on unseen data"
   ]
  },
  {
   "cell_type": "code",
   "execution_count": 28,
   "metadata": {
    "id": "K8VkT3Dt0HOl"
   },
   "outputs": [
    {
     "name": "stdout",
     "output_type": "stream",
     "text": [
      "CPU times: user 68 ms, sys: 7.99 ms, total: 76 ms\n",
      "Wall time: 74.3 ms\n"
     ]
    }
   ],
   "source": [
    "# Dataset is given from https://ufal.mff.cuni.cz/~kocmanek/2016/docs/lanidenn_testset.txt\n",
    "#%time ldata = pd.read_csv(\"/content/drive/MyDrive/lanidenn_testset.csv\", delimiter=\"^\", header=None, names=['Language', 'Text'])\n",
    "%time ldata = pd.read_csv(\"lanidenn_testset.csv\", delimiter=\"^\", header=None, names=['Language', 'Text'])"
   ]
  },
  {
   "cell_type": "code",
   "execution_count": 29,
   "metadata": {
    "id": "wJbGWxcP1W0c"
   },
   "outputs": [
    {
     "data": {
      "text/html": [
       "<div>\n",
       "<style scoped>\n",
       "    .dataframe tbody tr th:only-of-type {\n",
       "        vertical-align: middle;\n",
       "    }\n",
       "\n",
       "    .dataframe tbody tr th {\n",
       "        vertical-align: top;\n",
       "    }\n",
       "\n",
       "    .dataframe thead th {\n",
       "        text-align: right;\n",
       "    }\n",
       "</style>\n",
       "<table border=\"1\" class=\"dataframe\">\n",
       "  <thead>\n",
       "    <tr style=\"text-align: right;\">\n",
       "      <th></th>\n",
       "      <th>Language</th>\n",
       "      <th>Text</th>\n",
       "    </tr>\n",
       "  </thead>\n",
       "  <tbody>\n",
       "    <tr>\n",
       "      <th>0</th>\n",
       "      <td>hif</td>\n",
       "      <td>Ii sandhi 1919 me, bina German sarkar ke part...</td>\n",
       "    </tr>\n",
       "    <tr>\n",
       "      <th>1</th>\n",
       "      <td>mkd</td>\n",
       "      <td>Наум Охридски“ на брегот на Охридското Езеро ...</td>\n",
       "    </tr>\n",
       "    <tr>\n",
       "      <th>2</th>\n",
       "      <td>fry</td>\n",
       "      <td>De 23-jierrige Chris de Wagt trochrûn by SK C...</td>\n",
       "    </tr>\n",
       "    <tr>\n",
       "      <th>3</th>\n",
       "      <td>lus</td>\n",
       "      <td>Mi 1500 chuang exam paper, ni hnih khat leka ...</td>\n",
       "    </tr>\n",
       "    <tr>\n",
       "      <th>4</th>\n",
       "      <td>ast</td>\n",
       "      <td>El Burj Khalifa ye actualmente el rascacielos...</td>\n",
       "    </tr>\n",
       "    <tr>\n",
       "      <th>5</th>\n",
       "      <td>pan</td>\n",
       "      <td>ਮੈਨੂੰ ਉਸ ਦੀ ਖ਼ੁਸ਼ਬੂ ਪਸੰਦ ਹੈ।</td>\n",
       "    </tr>\n",
       "    <tr>\n",
       "      <th>6</th>\n",
       "      <td>cos</td>\n",
       "      <td>La Grecia entra in guerra è si schjera cù l'I...</td>\n",
       "    </tr>\n",
       "    <tr>\n",
       "      <th>7</th>\n",
       "      <td>scn</td>\n",
       "      <td>Doppu aviri pirdutu la battagghia ligali cu J...</td>\n",
       "    </tr>\n",
       "    <tr>\n",
       "      <th>8</th>\n",
       "      <td>zho</td>\n",
       "      <td>许多普通农民不敢对他们的领主反抗，因为他们在许多方面依靠这些领主。尤其农村的上层阶层呼吁改...</td>\n",
       "    </tr>\n",
       "    <tr>\n",
       "      <th>9</th>\n",
       "      <td>nds</td>\n",
       "      <td>He weet nich, ’keen ik bün.</td>\n",
       "    </tr>\n",
       "  </tbody>\n",
       "</table>\n",
       "</div>"
      ],
      "text/plain": [
       "  Language                                               Text\n",
       "0      hif   Ii sandhi 1919 me, bina German sarkar ke part...\n",
       "1      mkd   Наум Охридски“ на брегот на Охридското Езеро ...\n",
       "2      fry   De 23-jierrige Chris de Wagt trochrûn by SK C...\n",
       "3      lus   Mi 1500 chuang exam paper, ni hnih khat leka ...\n",
       "4      ast   El Burj Khalifa ye actualmente el rascacielos...\n",
       "5      pan                         ਮੈਨੂੰ ਉਸ ਦੀ ਖ਼ੁਸ਼ਬੂ ਪਸੰਦ ਹੈ।\n",
       "6      cos   La Grecia entra in guerra è si schjera cù l'I...\n",
       "7      scn   Doppu aviri pirdutu la battagghia ligali cu J...\n",
       "8      zho   许多普通农民不敢对他们的领主反抗，因为他们在许多方面依靠这些领主。尤其农村的上层阶层呼吁改...\n",
       "9      nds                        He weet nich, ’keen ik bün."
      ]
     },
     "execution_count": 29,
     "metadata": {},
     "output_type": "execute_result"
    }
   ],
   "source": [
    "ldata.head(10)"
   ]
  },
  {
   "cell_type": "code",
   "execution_count": 30,
   "metadata": {
    "id": "oPnizdrB1bHn"
   },
   "outputs": [],
   "source": [
    "#!pip install iso639"
   ]
  },
  {
   "cell_type": "code",
   "execution_count": 34,
   "metadata": {
    "id": "y1gyXCDW1WwX"
   },
   "outputs": [
    {
     "name": "stdout",
     "output_type": "stream",
     "text": [
      "Accuracy of Trained Neural Network is  97.0625        \n",
      "\r",
      "Accuracy of Multinomial Naive Bayes is 96.4375\n"
     ]
    }
   ],
   "source": [
    "import iso639\n",
    "\n",
    "langlist = ('eng', 'rus', 'ita', 'fra', 'fas', 'tur', 'deu', 'spa',\n",
    "            'dan', 'kan', 'por', 'mal', 'swe', 'dut', 'ara', 'tam', 'dan', 'gre', 'hin' )\n",
    "RX = ldata.loc[ldata['Language'].isin(langlist)][\"Text\"]\n",
    "RY = ldata.loc[ldata['Language'].isin(langlist)][\"Language\"]\n",
    "\n",
    "rx = cv.transform([i for i in RX]).toarray()\n",
    "yhatnb = modelMNB.predict(rx)\n",
    "\n",
    "rx = torch.tensor(rx, dtype=torch.float).to(device)\n",
    "ry = [le.transform([iso639.to_name(i).split(';')[0]]) for i in RY]\n",
    "\n",
    "with torch.no_grad():\n",
    "  yhatnn = modelNN(rx)\n",
    "  yhatnn = yhatnn.argmax(dim=1)\n",
    "\n",
    "accnn = accuracy_score(ry, yhatnn.cpu())\n",
    "accnb = accuracy_score(ry, yhatnb)\n",
    "\n",
    "print(f\"Accuracy of Trained Neural Network is  {accnn*100}\\\n",
    "        \\n\\rAccuracy of Multinomial Naive Bayes is {accnb*100}\")"
   ]
  },
  {
   "cell_type": "code",
   "execution_count": null,
   "metadata": {},
   "outputs": [],
   "source": []
  }
 ],
 "metadata": {
  "accelerator": "GPU",
  "colab": {
   "collapsed_sections": [],
   "name": "Language Detection.ipynb",
   "provenance": []
  },
  "kernelspec": {
   "display_name": "Python 3",
   "language": "python",
   "name": "python3"
  },
  "language_info": {
   "codemirror_mode": {
    "name": "ipython",
    "version": 3
   },
   "file_extension": ".py",
   "mimetype": "text/x-python",
   "name": "python",
   "nbconvert_exporter": "python",
   "pygments_lexer": "ipython3",
   "version": "3.9.6"
  }
 },
 "nbformat": 4,
 "nbformat_minor": 1
}
