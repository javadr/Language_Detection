{
  "cells": [
    {
      "cell_type": "markdown",
      "metadata": {
        "id": "pXWnm-MsbmGM"
      },
      "source": [
        "### Importing the Libraries"
      ]
    },
    {
      "cell_type": "code",
      "execution_count": 121,
      "metadata": {
        "id": "kPAsV03AbmGP"
      },
      "outputs": [],
      "source": [
        "import pandas as pd\n",
        "import numpy as np\n",
        "import matplotlib.pyplot as plt\n",
        "\n",
        "np.random.seed(1234)\n",
        "\n",
        "import warnings\n",
        "warnings.simplefilter(\"ignore\")"
      ]
    },
    {
      "cell_type": "code",
      "execution_count": 122,
      "metadata": {
        "id": "DjuJFwKDx7vM"
      },
      "outputs": [],
      "source": [
        "#from google.colab import drive\n",
        "#drive.mount('/content/drive')\n"
      ]
    },
    {
      "cell_type": "markdown",
      "metadata": {
        "id": "6gwYGXVPiAQ1"
      },
      "source": [
        ""
      ]
    },
    {
      "cell_type": "code",
      "execution_count": 123,
      "metadata": {
        "colab": {
          "base_uri": "https://localhost:8080/"
        },
        "id": "7q1DPss2bmGP",
        "outputId": "5aaa2914-c62d-4fda-cc46-a47b931838d6",
        "scrolled": true
      },
      "outputs": [
        {
          "output_type": "stream",
          "name": "stdout",
          "text": [
            "CPU times: user 54.6 ms, sys: 10.1 ms, total: 64.7 ms\n",
            "Wall time: 82.9 ms\n"
          ]
        }
      ],
      "source": [
        "# Loading the dataset\n",
        "# Dataset is given from https://www.kaggle.com/basilb2s/language-detection with some modification as well as another language, i.e. Persian. \n",
        "#%time data = pd.read_csv(\"/content/drive/MyDrive/language_detection.csv\")\n",
        "%time data = pd.read_csv(\"language_detection.csv\")\n"
      ]
    },
    {
      "cell_type": "markdown",
      "metadata": {
        "id": "4uMea2I__Pj9"
      },
      "source": [
        "### Get familiar with the data¶\n",
        "\n",
        "> Indented block\n",
        "\n"
      ]
    },
    {
      "cell_type": "code",
      "execution_count": 124,
      "metadata": {
        "colab": {
          "base_uri": "https://localhost:8080/",
          "height": 363
        },
        "id": "JGyhwtnfbmGR",
        "outputId": "73bc9dd0-3648-4f68-8171-55e1597f63d1"
      },
      "outputs": [
        {
          "output_type": "execute_result",
          "data": {
            "text/plain": [
              "                                                Text Language\n",
              "0   Nature, in the broadest sense, is the natural...  English\n",
              "1  \"Nature\" can refer to the phenomena of the phy...  English\n",
              "2  The study of nature is a large, if not the onl...  English\n",
              "3  Although humans are part of nature, human acti...  English\n",
              "4  [1] The word nature is borrowed from the Old F...  English\n",
              "5  [2] In ancient philosophy, natura is mostly us...  English\n",
              "6  [3][4] \\nThe concept of nature as a whole, the...  English\n",
              "7  During the advent of modern scientific method ...  English\n",
              "8  [5][6] With the Industrial revolution, nature ...  English\n",
              "9  However, a vitalist vision of nature, closer t...  English"
            ],
            "text/html": [
              "\n",
              "  <div id=\"df-1ee77f27-2290-4c2b-b75b-148f74b94b90\">\n",
              "    <div class=\"colab-df-container\">\n",
              "      <div>\n",
              "<style scoped>\n",
              "    .dataframe tbody tr th:only-of-type {\n",
              "        vertical-align: middle;\n",
              "    }\n",
              "\n",
              "    .dataframe tbody tr th {\n",
              "        vertical-align: top;\n",
              "    }\n",
              "\n",
              "    .dataframe thead th {\n",
              "        text-align: right;\n",
              "    }\n",
              "</style>\n",
              "<table border=\"1\" class=\"dataframe\">\n",
              "  <thead>\n",
              "    <tr style=\"text-align: right;\">\n",
              "      <th></th>\n",
              "      <th>Text</th>\n",
              "      <th>Language</th>\n",
              "    </tr>\n",
              "  </thead>\n",
              "  <tbody>\n",
              "    <tr>\n",
              "      <th>0</th>\n",
              "      <td>Nature, in the broadest sense, is the natural...</td>\n",
              "      <td>English</td>\n",
              "    </tr>\n",
              "    <tr>\n",
              "      <th>1</th>\n",
              "      <td>\"Nature\" can refer to the phenomena of the phy...</td>\n",
              "      <td>English</td>\n",
              "    </tr>\n",
              "    <tr>\n",
              "      <th>2</th>\n",
              "      <td>The study of nature is a large, if not the onl...</td>\n",
              "      <td>English</td>\n",
              "    </tr>\n",
              "    <tr>\n",
              "      <th>3</th>\n",
              "      <td>Although humans are part of nature, human acti...</td>\n",
              "      <td>English</td>\n",
              "    </tr>\n",
              "    <tr>\n",
              "      <th>4</th>\n",
              "      <td>[1] The word nature is borrowed from the Old F...</td>\n",
              "      <td>English</td>\n",
              "    </tr>\n",
              "    <tr>\n",
              "      <th>5</th>\n",
              "      <td>[2] In ancient philosophy, natura is mostly us...</td>\n",
              "      <td>English</td>\n",
              "    </tr>\n",
              "    <tr>\n",
              "      <th>6</th>\n",
              "      <td>[3][4] \\nThe concept of nature as a whole, the...</td>\n",
              "      <td>English</td>\n",
              "    </tr>\n",
              "    <tr>\n",
              "      <th>7</th>\n",
              "      <td>During the advent of modern scientific method ...</td>\n",
              "      <td>English</td>\n",
              "    </tr>\n",
              "    <tr>\n",
              "      <th>8</th>\n",
              "      <td>[5][6] With the Industrial revolution, nature ...</td>\n",
              "      <td>English</td>\n",
              "    </tr>\n",
              "    <tr>\n",
              "      <th>9</th>\n",
              "      <td>However, a vitalist vision of nature, closer t...</td>\n",
              "      <td>English</td>\n",
              "    </tr>\n",
              "  </tbody>\n",
              "</table>\n",
              "</div>\n",
              "      <button class=\"colab-df-convert\" onclick=\"convertToInteractive('df-1ee77f27-2290-4c2b-b75b-148f74b94b90')\"\n",
              "              title=\"Convert this dataframe to an interactive table.\"\n",
              "              style=\"display:none;\">\n",
              "        \n",
              "  <svg xmlns=\"http://www.w3.org/2000/svg\" height=\"24px\"viewBox=\"0 0 24 24\"\n",
              "       width=\"24px\">\n",
              "    <path d=\"M0 0h24v24H0V0z\" fill=\"none\"/>\n",
              "    <path d=\"M18.56 5.44l.94 2.06.94-2.06 2.06-.94-2.06-.94-.94-2.06-.94 2.06-2.06.94zm-11 1L8.5 8.5l.94-2.06 2.06-.94-2.06-.94L8.5 2.5l-.94 2.06-2.06.94zm10 10l.94 2.06.94-2.06 2.06-.94-2.06-.94-.94-2.06-.94 2.06-2.06.94z\"/><path d=\"M17.41 7.96l-1.37-1.37c-.4-.4-.92-.59-1.43-.59-.52 0-1.04.2-1.43.59L10.3 9.45l-7.72 7.72c-.78.78-.78 2.05 0 2.83L4 21.41c.39.39.9.59 1.41.59.51 0 1.02-.2 1.41-.59l7.78-7.78 2.81-2.81c.8-.78.8-2.07 0-2.86zM5.41 20L4 18.59l7.72-7.72 1.47 1.35L5.41 20z\"/>\n",
              "  </svg>\n",
              "      </button>\n",
              "      \n",
              "  <style>\n",
              "    .colab-df-container {\n",
              "      display:flex;\n",
              "      flex-wrap:wrap;\n",
              "      gap: 12px;\n",
              "    }\n",
              "\n",
              "    .colab-df-convert {\n",
              "      background-color: #E8F0FE;\n",
              "      border: none;\n",
              "      border-radius: 50%;\n",
              "      cursor: pointer;\n",
              "      display: none;\n",
              "      fill: #1967D2;\n",
              "      height: 32px;\n",
              "      padding: 0 0 0 0;\n",
              "      width: 32px;\n",
              "    }\n",
              "\n",
              "    .colab-df-convert:hover {\n",
              "      background-color: #E2EBFA;\n",
              "      box-shadow: 0px 1px 2px rgba(60, 64, 67, 0.3), 0px 1px 3px 1px rgba(60, 64, 67, 0.15);\n",
              "      fill: #174EA6;\n",
              "    }\n",
              "\n",
              "    [theme=dark] .colab-df-convert {\n",
              "      background-color: #3B4455;\n",
              "      fill: #D2E3FC;\n",
              "    }\n",
              "\n",
              "    [theme=dark] .colab-df-convert:hover {\n",
              "      background-color: #434B5C;\n",
              "      box-shadow: 0px 1px 3px 1px rgba(0, 0, 0, 0.15);\n",
              "      filter: drop-shadow(0px 1px 2px rgba(0, 0, 0, 0.3));\n",
              "      fill: #FFFFFF;\n",
              "    }\n",
              "  </style>\n",
              "\n",
              "      <script>\n",
              "        const buttonEl =\n",
              "          document.querySelector('#df-1ee77f27-2290-4c2b-b75b-148f74b94b90 button.colab-df-convert');\n",
              "        buttonEl.style.display =\n",
              "          google.colab.kernel.accessAllowed ? 'block' : 'none';\n",
              "\n",
              "        async function convertToInteractive(key) {\n",
              "          const element = document.querySelector('#df-1ee77f27-2290-4c2b-b75b-148f74b94b90');\n",
              "          const dataTable =\n",
              "            await google.colab.kernel.invokeFunction('convertToInteractive',\n",
              "                                                     [key], {});\n",
              "          if (!dataTable) return;\n",
              "\n",
              "          const docLinkHtml = 'Like what you see? Visit the ' +\n",
              "            '<a target=\"_blank\" href=https://colab.research.google.com/notebooks/data_table.ipynb>data table notebook</a>'\n",
              "            + ' to learn more about interactive tables.';\n",
              "          element.innerHTML = '';\n",
              "          dataTable['output_type'] = 'display_data';\n",
              "          await google.colab.output.renderOutput(dataTable, element);\n",
              "          const docLink = document.createElement('div');\n",
              "          docLink.innerHTML = docLinkHtml;\n",
              "          element.appendChild(docLink);\n",
              "        }\n",
              "      </script>\n",
              "    </div>\n",
              "  </div>\n",
              "  "
            ]
          },
          "metadata": {},
          "execution_count": 124
        }
      ],
      "source": [
        "data.head(10)"
      ]
    },
    {
      "cell_type": "code",
      "execution_count": 125,
      "metadata": {
        "colab": {
          "base_uri": "https://localhost:8080/"
        },
        "id": "AyStJsNtbmGR",
        "outputId": "f8f3b9d2-0204-4eac-fd08-2b3f80fe743c"
      },
      "outputs": [
        {
          "output_type": "execute_result",
          "data": {
            "text/plain": [
              "(English       1385\n",
              " French        1014\n",
              " Spanish        819\n",
              " Portuguese     739\n",
              " Italian        698\n",
              " Russian        692\n",
              " Swedish        676\n",
              " Malayalam      594\n",
              " Dutch          546\n",
              " Arabic         536\n",
              " Turkish        474\n",
              " German         470\n",
              " Tamil          469\n",
              " Persian        466\n",
              " Danish         428\n",
              " Kannada        369\n",
              " Greek          365\n",
              " Hindi           63\n",
              " Name: Language, dtype: int64, 10803)"
            ]
          },
          "metadata": {},
          "execution_count": 125
        }
      ],
      "source": [
        "# value count for each language\n",
        "data[\"Language\"].value_counts(), len(data)"
      ]
    },
    {
      "cell_type": "code",
      "execution_count": 126,
      "metadata": {
        "id": "S1uzpC9BbmGS"
      },
      "outputs": [],
      "source": [
        "# separating the independent and dependant features\n",
        "X = data[\"Text\"]\n",
        "Y = data[\"Language\"]"
      ]
    },
    {
      "cell_type": "code",
      "execution_count": 127,
      "metadata": {
        "colab": {
          "base_uri": "https://localhost:8080/"
        },
        "id": "WoX6Jv1ybmGS",
        "outputId": "6b6bb2d8-1a5d-458e-ae91-0832547b71b9"
      },
      "outputs": [
        {
          "output_type": "stream",
          "name": "stdout",
          "text": [
            "CPU times: user 4.09 ms, sys: 0 ns, total: 4.09 ms\n",
            "Wall time: 4.63 ms\n"
          ]
        }
      ],
      "source": [
        "# converting categorical variables to numerical\n",
        "\n",
        "from sklearn.preprocessing import LabelEncoder\n",
        "le = LabelEncoder()\n",
        "%time y = le.fit_transform(Y)"
      ]
    },
    {
      "cell_type": "markdown",
      "metadata": {
        "id": "G6AagH1TbmGT"
      },
      "source": [
        "### Text preprocessing\n",
        "\n",
        "> Indented block\n",
        "\n"
      ]
    },
    {
      "cell_type": "code",
      "execution_count": 128,
      "metadata": {
        "id": "ncE9xGv2bmGT"
      },
      "outputs": [],
      "source": [
        "# Data Sanitation by removing unnecessary characters\n",
        "import re\n",
        "\n",
        "data_list = []\n",
        "for text in X:\n",
        "    extras = '«»\\n\\r\\t!\"$%&/{}[]()=?\\\\`´*+~#-_.:,;<>|1234567890°-\\'۰۱۲۳۴۵۶۷۸۹،×„”“•′؟؛'\n",
        "    rx = '[' + re.escape(''.join(extras)) + ']'\n",
        "    text = re.sub(' +', ' ', re.sub(rx, ' ', text) ).strip()\n",
        "    text = text.lower().replace(' ', '_')\n",
        "    data_list.append(text)"
      ]
    },
    {
      "cell_type": "markdown",
      "metadata": {
        "id": "MB-8QAx6bmGU"
      },
      "source": [
        "### Train Test split"
      ]
    },
    {
      "cell_type": "code",
      "execution_count": 129,
      "metadata": {
        "colab": {
          "base_uri": "https://localhost:8080/"
        },
        "id": "sIk8sr1obmGV",
        "outputId": "eb9085d0-ccb9-4326-fc5c-3be3aa378a59"
      },
      "outputs": [
        {
          "output_type": "stream",
          "name": "stdout",
          "text": [
            "CPU times: user 5.31 ms, sys: 0 ns, total: 5.31 ms\n",
            "Wall time: 5.29 ms\n"
          ]
        }
      ],
      "source": [
        "from sklearn.model_selection import train_test_split\n",
        "\n",
        "%time X_train, X_test, y_train, y_test = train_test_split(data_list, y, test_size = 0.20, random_state=1234)"
      ]
    },
    {
      "cell_type": "markdown",
      "metadata": {
        "id": "jXWYb9wJbmGV"
      },
      "source": [
        "### Bag of Words\n",
        "Using bigrams and trigrams"
      ]
    },
    {
      "cell_type": "code",
      "execution_count": 130,
      "metadata": {
        "colab": {
          "base_uri": "https://localhost:8080/"
        },
        "id": "a0GSXGXGbmGV",
        "outputId": "339f4432-7d17-48c8-a492-deb54a5526ab"
      },
      "outputs": [
        {
          "output_type": "stream",
          "name": "stdout",
          "text": [
            "CPU times: user 1.5 s, sys: 816 ms, total: 2.31 s\n",
            "Wall time: 2.37 s\n",
            "CPU times: user 372 ms, sys: 319 ms, total: 691 ms\n",
            "Wall time: 692 ms\n"
          ]
        },
        {
          "output_type": "execute_result",
          "data": {
            "text/plain": [
              "((8642, 22728), (2161, 22728))"
            ]
          },
          "metadata": {},
          "execution_count": 130
        }
      ],
      "source": [
        "# creating bag of words using countvectorizer\n",
        "\n",
        "from sklearn.feature_extraction.text import CountVectorizer\n",
        "cv = CountVectorizer(analyzer='char', stop_words='english', ngram_range=(2,3), min_df=5, )\n",
        "%time x_train = cv.fit_transform(X_train).toarray()\n",
        "%time x_test = cv.transform(X_test).toarray()\n",
        "x_train.shape, x_test.shape"
      ]
    },
    {
      "cell_type": "markdown",
      "metadata": {
        "id": "QfsqX1TRbmGW"
      },
      "source": [
        "### Multinomial Naive Model creation and Prediction"
      ]
    },
    {
      "cell_type": "code",
      "execution_count": 131,
      "metadata": {
        "colab": {
          "base_uri": "https://localhost:8080/"
        },
        "id": "J0zqSAKYbmGW",
        "outputId": "f8eebbeb-d70a-41ef-bb00-083fbf7ba384"
      },
      "outputs": [
        {
          "output_type": "stream",
          "name": "stdout",
          "text": [
            "CPU times: user 2min 8s, sys: 205 ms, total: 2min 8s\n",
            "Wall time: 2min 9s\n"
          ]
        },
        {
          "output_type": "execute_result",
          "data": {
            "text/plain": [
              "MultinomialNB()"
            ]
          },
          "metadata": {},
          "execution_count": 131
        }
      ],
      "source": [
        "from sklearn.naive_bayes import MultinomialNB\n",
        "\n",
        "modelMNB = MultinomialNB()\n",
        "%time  modelMNB.fit(x_train, y_train)"
      ]
    },
    {
      "cell_type": "code",
      "execution_count": 132,
      "metadata": {
        "colab": {
          "base_uri": "https://localhost:8080/",
          "height": 519
        },
        "id": "UtP7aFb6bmGW",
        "outputId": "4eb7e482-1ace-46ca-9009-2b67a46bc871"
      },
      "outputs": [
        {
          "output_type": "execute_result",
          "data": {
            "text/plain": [
              "       Arabic  Danish  Dutch  English  French  German  Greek  Hindi  Italian  \\\n",
              "token                                                                          \n",
              "ζει       0.0     0.0    0.0      0.0     0.0     0.0   12.0    0.0      0.0   \n",
              "_эк       0.0     0.0    0.0      0.0     0.0     0.0    0.0    0.0      0.0   \n",
              "änt       0.0     0.0    0.0      0.0     0.0     0.0    0.0    0.0      0.0   \n",
              "çu_       0.0     0.0    0.0      0.0     6.0     0.0    0.0    0.0      0.0   \n",
              "r_c       0.0     4.0    3.0     62.0    59.0     2.0    0.0    0.0     22.0   \n",
              "...       ...     ...    ...      ...     ...     ...    ...    ...      ...   \n",
              "tme       0.0     0.0    1.0      6.0     0.0     1.0    0.0    0.0      0.0   \n",
              "سخ        7.0     0.0    0.0      0.0     0.0     0.0    0.0    0.0      0.0   \n",
              "pé_       0.0     0.0    0.0      0.0     8.0     0.0    0.0    0.0      0.0   \n",
              "ük        0.0     0.0    0.0      0.0     0.0     0.0    0.0    0.0      0.0   \n",
              "ён        0.0     0.0    0.0      0.0     0.0     0.0    0.0    0.0      0.0   \n",
              "\n",
              "       Kannada  Malayalam  Persian  Portuguese  Russian  Spanish  Swedish  \\\n",
              "token                                                                       \n",
              "ζει        0.0        0.0      0.0         0.0      0.0      0.0      0.0   \n",
              "_эк        0.0        0.0      0.0         0.0      9.0      0.0      0.0   \n",
              "änt        0.0        0.0      0.0         0.0      0.0      0.0      5.0   \n",
              "çu_        0.0        0.0      0.0         0.0      0.0      0.0      0.0   \n",
              "r_c        0.0        0.0      0.0        44.0      0.0     29.0      4.0   \n",
              "...        ...        ...      ...         ...      ...      ...      ...   \n",
              "tme        0.0        0.0      0.0         0.0      1.0      0.0      0.0   \n",
              "سخ         0.0        0.0     32.0         0.0      0.0      0.0      0.0   \n",
              "pé_        0.0        0.0      0.0         0.0      0.0      0.0      0.0   \n",
              "ük         0.0        0.0      0.0         0.0      0.0      0.0      0.0   \n",
              "ён         0.0        0.0      0.0         0.0     31.0      0.0      0.0   \n",
              "\n",
              "       Tamil  \n",
              "token         \n",
              "ζει      0.0  \n",
              "_эк      0.0  \n",
              "änt      0.0  \n",
              "çu_      0.0  \n",
              "r_c      0.0  \n",
              "...      ...  \n",
              "tme      0.0  \n",
              "سخ       0.0  \n",
              "pé_      0.0  \n",
              "ük       0.0  \n",
              "ён       0.0  \n",
              "\n",
              "[100 rows x 17 columns]"
            ],
            "text/html": [
              "\n",
              "  <div id=\"df-69caf0ab-18d9-4526-b1d6-215dd5e91f8e\">\n",
              "    <div class=\"colab-df-container\">\n",
              "      <div>\n",
              "<style scoped>\n",
              "    .dataframe tbody tr th:only-of-type {\n",
              "        vertical-align: middle;\n",
              "    }\n",
              "\n",
              "    .dataframe tbody tr th {\n",
              "        vertical-align: top;\n",
              "    }\n",
              "\n",
              "    .dataframe thead th {\n",
              "        text-align: right;\n",
              "    }\n",
              "</style>\n",
              "<table border=\"1\" class=\"dataframe\">\n",
              "  <thead>\n",
              "    <tr style=\"text-align: right;\">\n",
              "      <th></th>\n",
              "      <th>Arabic</th>\n",
              "      <th>Danish</th>\n",
              "      <th>Dutch</th>\n",
              "      <th>English</th>\n",
              "      <th>French</th>\n",
              "      <th>German</th>\n",
              "      <th>Greek</th>\n",
              "      <th>Hindi</th>\n",
              "      <th>Italian</th>\n",
              "      <th>Kannada</th>\n",
              "      <th>Malayalam</th>\n",
              "      <th>Persian</th>\n",
              "      <th>Portuguese</th>\n",
              "      <th>Russian</th>\n",
              "      <th>Spanish</th>\n",
              "      <th>Swedish</th>\n",
              "      <th>Tamil</th>\n",
              "    </tr>\n",
              "    <tr>\n",
              "      <th>token</th>\n",
              "      <th></th>\n",
              "      <th></th>\n",
              "      <th></th>\n",
              "      <th></th>\n",
              "      <th></th>\n",
              "      <th></th>\n",
              "      <th></th>\n",
              "      <th></th>\n",
              "      <th></th>\n",
              "      <th></th>\n",
              "      <th></th>\n",
              "      <th></th>\n",
              "      <th></th>\n",
              "      <th></th>\n",
              "      <th></th>\n",
              "      <th></th>\n",
              "      <th></th>\n",
              "    </tr>\n",
              "  </thead>\n",
              "  <tbody>\n",
              "    <tr>\n",
              "      <th>ζει</th>\n",
              "      <td>0.0</td>\n",
              "      <td>0.0</td>\n",
              "      <td>0.0</td>\n",
              "      <td>0.0</td>\n",
              "      <td>0.0</td>\n",
              "      <td>0.0</td>\n",
              "      <td>12.0</td>\n",
              "      <td>0.0</td>\n",
              "      <td>0.0</td>\n",
              "      <td>0.0</td>\n",
              "      <td>0.0</td>\n",
              "      <td>0.0</td>\n",
              "      <td>0.0</td>\n",
              "      <td>0.0</td>\n",
              "      <td>0.0</td>\n",
              "      <td>0.0</td>\n",
              "      <td>0.0</td>\n",
              "    </tr>\n",
              "    <tr>\n",
              "      <th>_эк</th>\n",
              "      <td>0.0</td>\n",
              "      <td>0.0</td>\n",
              "      <td>0.0</td>\n",
              "      <td>0.0</td>\n",
              "      <td>0.0</td>\n",
              "      <td>0.0</td>\n",
              "      <td>0.0</td>\n",
              "      <td>0.0</td>\n",
              "      <td>0.0</td>\n",
              "      <td>0.0</td>\n",
              "      <td>0.0</td>\n",
              "      <td>0.0</td>\n",
              "      <td>0.0</td>\n",
              "      <td>9.0</td>\n",
              "      <td>0.0</td>\n",
              "      <td>0.0</td>\n",
              "      <td>0.0</td>\n",
              "    </tr>\n",
              "    <tr>\n",
              "      <th>änt</th>\n",
              "      <td>0.0</td>\n",
              "      <td>0.0</td>\n",
              "      <td>0.0</td>\n",
              "      <td>0.0</td>\n",
              "      <td>0.0</td>\n",
              "      <td>0.0</td>\n",
              "      <td>0.0</td>\n",
              "      <td>0.0</td>\n",
              "      <td>0.0</td>\n",
              "      <td>0.0</td>\n",
              "      <td>0.0</td>\n",
              "      <td>0.0</td>\n",
              "      <td>0.0</td>\n",
              "      <td>0.0</td>\n",
              "      <td>0.0</td>\n",
              "      <td>5.0</td>\n",
              "      <td>0.0</td>\n",
              "    </tr>\n",
              "    <tr>\n",
              "      <th>çu_</th>\n",
              "      <td>0.0</td>\n",
              "      <td>0.0</td>\n",
              "      <td>0.0</td>\n",
              "      <td>0.0</td>\n",
              "      <td>6.0</td>\n",
              "      <td>0.0</td>\n",
              "      <td>0.0</td>\n",
              "      <td>0.0</td>\n",
              "      <td>0.0</td>\n",
              "      <td>0.0</td>\n",
              "      <td>0.0</td>\n",
              "      <td>0.0</td>\n",
              "      <td>0.0</td>\n",
              "      <td>0.0</td>\n",
              "      <td>0.0</td>\n",
              "      <td>0.0</td>\n",
              "      <td>0.0</td>\n",
              "    </tr>\n",
              "    <tr>\n",
              "      <th>r_c</th>\n",
              "      <td>0.0</td>\n",
              "      <td>4.0</td>\n",
              "      <td>3.0</td>\n",
              "      <td>62.0</td>\n",
              "      <td>59.0</td>\n",
              "      <td>2.0</td>\n",
              "      <td>0.0</td>\n",
              "      <td>0.0</td>\n",
              "      <td>22.0</td>\n",
              "      <td>0.0</td>\n",
              "      <td>0.0</td>\n",
              "      <td>0.0</td>\n",
              "      <td>44.0</td>\n",
              "      <td>0.0</td>\n",
              "      <td>29.0</td>\n",
              "      <td>4.0</td>\n",
              "      <td>0.0</td>\n",
              "    </tr>\n",
              "    <tr>\n",
              "      <th>...</th>\n",
              "      <td>...</td>\n",
              "      <td>...</td>\n",
              "      <td>...</td>\n",
              "      <td>...</td>\n",
              "      <td>...</td>\n",
              "      <td>...</td>\n",
              "      <td>...</td>\n",
              "      <td>...</td>\n",
              "      <td>...</td>\n",
              "      <td>...</td>\n",
              "      <td>...</td>\n",
              "      <td>...</td>\n",
              "      <td>...</td>\n",
              "      <td>...</td>\n",
              "      <td>...</td>\n",
              "      <td>...</td>\n",
              "      <td>...</td>\n",
              "    </tr>\n",
              "    <tr>\n",
              "      <th>tme</th>\n",
              "      <td>0.0</td>\n",
              "      <td>0.0</td>\n",
              "      <td>1.0</td>\n",
              "      <td>6.0</td>\n",
              "      <td>0.0</td>\n",
              "      <td>1.0</td>\n",
              "      <td>0.0</td>\n",
              "      <td>0.0</td>\n",
              "      <td>0.0</td>\n",
              "      <td>0.0</td>\n",
              "      <td>0.0</td>\n",
              "      <td>0.0</td>\n",
              "      <td>0.0</td>\n",
              "      <td>1.0</td>\n",
              "      <td>0.0</td>\n",
              "      <td>0.0</td>\n",
              "      <td>0.0</td>\n",
              "    </tr>\n",
              "    <tr>\n",
              "      <th>سخ</th>\n",
              "      <td>7.0</td>\n",
              "      <td>0.0</td>\n",
              "      <td>0.0</td>\n",
              "      <td>0.0</td>\n",
              "      <td>0.0</td>\n",
              "      <td>0.0</td>\n",
              "      <td>0.0</td>\n",
              "      <td>0.0</td>\n",
              "      <td>0.0</td>\n",
              "      <td>0.0</td>\n",
              "      <td>0.0</td>\n",
              "      <td>32.0</td>\n",
              "      <td>0.0</td>\n",
              "      <td>0.0</td>\n",
              "      <td>0.0</td>\n",
              "      <td>0.0</td>\n",
              "      <td>0.0</td>\n",
              "    </tr>\n",
              "    <tr>\n",
              "      <th>pé_</th>\n",
              "      <td>0.0</td>\n",
              "      <td>0.0</td>\n",
              "      <td>0.0</td>\n",
              "      <td>0.0</td>\n",
              "      <td>8.0</td>\n",
              "      <td>0.0</td>\n",
              "      <td>0.0</td>\n",
              "      <td>0.0</td>\n",
              "      <td>0.0</td>\n",
              "      <td>0.0</td>\n",
              "      <td>0.0</td>\n",
              "      <td>0.0</td>\n",
              "      <td>0.0</td>\n",
              "      <td>0.0</td>\n",
              "      <td>0.0</td>\n",
              "      <td>0.0</td>\n",
              "      <td>0.0</td>\n",
              "    </tr>\n",
              "    <tr>\n",
              "      <th>ük</th>\n",
              "      <td>0.0</td>\n",
              "      <td>0.0</td>\n",
              "      <td>0.0</td>\n",
              "      <td>0.0</td>\n",
              "      <td>0.0</td>\n",
              "      <td>0.0</td>\n",
              "      <td>0.0</td>\n",
              "      <td>0.0</td>\n",
              "      <td>0.0</td>\n",
              "      <td>0.0</td>\n",
              "      <td>0.0</td>\n",
              "      <td>0.0</td>\n",
              "      <td>0.0</td>\n",
              "      <td>0.0</td>\n",
              "      <td>0.0</td>\n",
              "      <td>0.0</td>\n",
              "      <td>0.0</td>\n",
              "    </tr>\n",
              "    <tr>\n",
              "      <th>ён</th>\n",
              "      <td>0.0</td>\n",
              "      <td>0.0</td>\n",
              "      <td>0.0</td>\n",
              "      <td>0.0</td>\n",
              "      <td>0.0</td>\n",
              "      <td>0.0</td>\n",
              "      <td>0.0</td>\n",
              "      <td>0.0</td>\n",
              "      <td>0.0</td>\n",
              "      <td>0.0</td>\n",
              "      <td>0.0</td>\n",
              "      <td>0.0</td>\n",
              "      <td>0.0</td>\n",
              "      <td>31.0</td>\n",
              "      <td>0.0</td>\n",
              "      <td>0.0</td>\n",
              "      <td>0.0</td>\n",
              "    </tr>\n",
              "  </tbody>\n",
              "</table>\n",
              "<p>100 rows × 17 columns</p>\n",
              "</div>\n",
              "      <button class=\"colab-df-convert\" onclick=\"convertToInteractive('df-69caf0ab-18d9-4526-b1d6-215dd5e91f8e')\"\n",
              "              title=\"Convert this dataframe to an interactive table.\"\n",
              "              style=\"display:none;\">\n",
              "        \n",
              "  <svg xmlns=\"http://www.w3.org/2000/svg\" height=\"24px\"viewBox=\"0 0 24 24\"\n",
              "       width=\"24px\">\n",
              "    <path d=\"M0 0h24v24H0V0z\" fill=\"none\"/>\n",
              "    <path d=\"M18.56 5.44l.94 2.06.94-2.06 2.06-.94-2.06-.94-.94-2.06-.94 2.06-2.06.94zm-11 1L8.5 8.5l.94-2.06 2.06-.94-2.06-.94L8.5 2.5l-.94 2.06-2.06.94zm10 10l.94 2.06.94-2.06 2.06-.94-2.06-.94-.94-2.06-.94 2.06-2.06.94z\"/><path d=\"M17.41 7.96l-1.37-1.37c-.4-.4-.92-.59-1.43-.59-.52 0-1.04.2-1.43.59L10.3 9.45l-7.72 7.72c-.78.78-.78 2.05 0 2.83L4 21.41c.39.39.9.59 1.41.59.51 0 1.02-.2 1.41-.59l7.78-7.78 2.81-2.81c.8-.78.8-2.07 0-2.86zM5.41 20L4 18.59l7.72-7.72 1.47 1.35L5.41 20z\"/>\n",
              "  </svg>\n",
              "      </button>\n",
              "      \n",
              "  <style>\n",
              "    .colab-df-container {\n",
              "      display:flex;\n",
              "      flex-wrap:wrap;\n",
              "      gap: 12px;\n",
              "    }\n",
              "\n",
              "    .colab-df-convert {\n",
              "      background-color: #E8F0FE;\n",
              "      border: none;\n",
              "      border-radius: 50%;\n",
              "      cursor: pointer;\n",
              "      display: none;\n",
              "      fill: #1967D2;\n",
              "      height: 32px;\n",
              "      padding: 0 0 0 0;\n",
              "      width: 32px;\n",
              "    }\n",
              "\n",
              "    .colab-df-convert:hover {\n",
              "      background-color: #E2EBFA;\n",
              "      box-shadow: 0px 1px 2px rgba(60, 64, 67, 0.3), 0px 1px 3px 1px rgba(60, 64, 67, 0.15);\n",
              "      fill: #174EA6;\n",
              "    }\n",
              "\n",
              "    [theme=dark] .colab-df-convert {\n",
              "      background-color: #3B4455;\n",
              "      fill: #D2E3FC;\n",
              "    }\n",
              "\n",
              "    [theme=dark] .colab-df-convert:hover {\n",
              "      background-color: #434B5C;\n",
              "      box-shadow: 0px 1px 3px 1px rgba(0, 0, 0, 0.15);\n",
              "      filter: drop-shadow(0px 1px 2px rgba(0, 0, 0, 0.3));\n",
              "      fill: #FFFFFF;\n",
              "    }\n",
              "  </style>\n",
              "\n",
              "      <script>\n",
              "        const buttonEl =\n",
              "          document.querySelector('#df-69caf0ab-18d9-4526-b1d6-215dd5e91f8e button.colab-df-convert');\n",
              "        buttonEl.style.display =\n",
              "          google.colab.kernel.accessAllowed ? 'block' : 'none';\n",
              "\n",
              "        async function convertToInteractive(key) {\n",
              "          const element = document.querySelector('#df-69caf0ab-18d9-4526-b1d6-215dd5e91f8e');\n",
              "          const dataTable =\n",
              "            await google.colab.kernel.invokeFunction('convertToInteractive',\n",
              "                                                     [key], {});\n",
              "          if (!dataTable) return;\n",
              "\n",
              "          const docLinkHtml = 'Like what you see? Visit the ' +\n",
              "            '<a target=\"_blank\" href=https://colab.research.google.com/notebooks/data_table.ipynb>data table notebook</a>'\n",
              "            + ' to learn more about interactive tables.';\n",
              "          element.innerHTML = '';\n",
              "          dataTable['output_type'] = 'display_data';\n",
              "          await google.colab.output.renderOutput(dataTable, element);\n",
              "          const docLink = document.createElement('div');\n",
              "          docLink.innerHTML = docLinkHtml;\n",
              "          element.appendChild(docLink);\n",
              "        }\n",
              "      </script>\n",
              "    </div>\n",
              "  </div>\n",
              "  "
            ]
          },
          "metadata": {},
          "execution_count": 132
        }
      ],
      "source": [
        "# number of times each token appears across all classes\n",
        "\n",
        "params_dic = {'token':cv.get_feature_names()}\n",
        "params_dic.update({le.inverse_transform([i])[0]:modelMNB.feature_count_[i,:] for i in range(17)})\n",
        "tokens = pd.DataFrame(params_dic).set_index('token')\n",
        "tokens.sample(100)"
      ]
    },
    {
      "cell_type": "code",
      "execution_count": 133,
      "metadata": {
        "colab": {
          "base_uri": "https://localhost:8080/",
          "height": 176
        },
        "id": "-Xcq0-C5bmGX",
        "outputId": "bc279334-b8a4-4535-deb3-370c0f965754"
      },
      "outputs": [
        {
          "output_type": "execute_result",
          "data": {
            "text/plain": [
              "              0       1      2        3       4       5      6      7   \\\n",
              "language  Arabic  Danish  Dutch  English  French  German  Greek  Hindi   \n",
              "#samples   432.0   337.0  439.0   1093.0   820.0   377.0  293.0   48.0   \n",
              "\n",
              "               8        9          10       11          12       13       14  \\\n",
              "language  Italian  Kannada  Malayalam  Persian  Portuguese  Russian  Spanish   \n",
              "#samples    574.0    302.0      461.0    368.0       614.0    547.0    656.0   \n",
              "\n",
              "               15     16       17  \n",
              "language  Swedish  Tamil  Turkish  \n",
              "#samples    534.0  364.0    383.0  "
            ],
            "text/html": [
              "\n",
              "  <div id=\"df-3992952d-f637-41e6-aa3b-5888b4a49cd3\">\n",
              "    <div class=\"colab-df-container\">\n",
              "      <div>\n",
              "<style scoped>\n",
              "    .dataframe tbody tr th:only-of-type {\n",
              "        vertical-align: middle;\n",
              "    }\n",
              "\n",
              "    .dataframe tbody tr th {\n",
              "        vertical-align: top;\n",
              "    }\n",
              "\n",
              "    .dataframe thead th {\n",
              "        text-align: right;\n",
              "    }\n",
              "</style>\n",
              "<table border=\"1\" class=\"dataframe\">\n",
              "  <thead>\n",
              "    <tr style=\"text-align: right;\">\n",
              "      <th></th>\n",
              "      <th>0</th>\n",
              "      <th>1</th>\n",
              "      <th>2</th>\n",
              "      <th>3</th>\n",
              "      <th>4</th>\n",
              "      <th>5</th>\n",
              "      <th>6</th>\n",
              "      <th>7</th>\n",
              "      <th>8</th>\n",
              "      <th>9</th>\n",
              "      <th>10</th>\n",
              "      <th>11</th>\n",
              "      <th>12</th>\n",
              "      <th>13</th>\n",
              "      <th>14</th>\n",
              "      <th>15</th>\n",
              "      <th>16</th>\n",
              "      <th>17</th>\n",
              "    </tr>\n",
              "  </thead>\n",
              "  <tbody>\n",
              "    <tr>\n",
              "      <th>language</th>\n",
              "      <td>Arabic</td>\n",
              "      <td>Danish</td>\n",
              "      <td>Dutch</td>\n",
              "      <td>English</td>\n",
              "      <td>French</td>\n",
              "      <td>German</td>\n",
              "      <td>Greek</td>\n",
              "      <td>Hindi</td>\n",
              "      <td>Italian</td>\n",
              "      <td>Kannada</td>\n",
              "      <td>Malayalam</td>\n",
              "      <td>Persian</td>\n",
              "      <td>Portuguese</td>\n",
              "      <td>Russian</td>\n",
              "      <td>Spanish</td>\n",
              "      <td>Swedish</td>\n",
              "      <td>Tamil</td>\n",
              "      <td>Turkish</td>\n",
              "    </tr>\n",
              "    <tr>\n",
              "      <th>#samples</th>\n",
              "      <td>432.0</td>\n",
              "      <td>337.0</td>\n",
              "      <td>439.0</td>\n",
              "      <td>1093.0</td>\n",
              "      <td>820.0</td>\n",
              "      <td>377.0</td>\n",
              "      <td>293.0</td>\n",
              "      <td>48.0</td>\n",
              "      <td>574.0</td>\n",
              "      <td>302.0</td>\n",
              "      <td>461.0</td>\n",
              "      <td>368.0</td>\n",
              "      <td>614.0</td>\n",
              "      <td>547.0</td>\n",
              "      <td>656.0</td>\n",
              "      <td>534.0</td>\n",
              "      <td>364.0</td>\n",
              "      <td>383.0</td>\n",
              "    </tr>\n",
              "  </tbody>\n",
              "</table>\n",
              "</div>\n",
              "      <button class=\"colab-df-convert\" onclick=\"convertToInteractive('df-3992952d-f637-41e6-aa3b-5888b4a49cd3')\"\n",
              "              title=\"Convert this dataframe to an interactive table.\"\n",
              "              style=\"display:none;\">\n",
              "        \n",
              "  <svg xmlns=\"http://www.w3.org/2000/svg\" height=\"24px\"viewBox=\"0 0 24 24\"\n",
              "       width=\"24px\">\n",
              "    <path d=\"M0 0h24v24H0V0z\" fill=\"none\"/>\n",
              "    <path d=\"M18.56 5.44l.94 2.06.94-2.06 2.06-.94-2.06-.94-.94-2.06-.94 2.06-2.06.94zm-11 1L8.5 8.5l.94-2.06 2.06-.94-2.06-.94L8.5 2.5l-.94 2.06-2.06.94zm10 10l.94 2.06.94-2.06 2.06-.94-2.06-.94-.94-2.06-.94 2.06-2.06.94z\"/><path d=\"M17.41 7.96l-1.37-1.37c-.4-.4-.92-.59-1.43-.59-.52 0-1.04.2-1.43.59L10.3 9.45l-7.72 7.72c-.78.78-.78 2.05 0 2.83L4 21.41c.39.39.9.59 1.41.59.51 0 1.02-.2 1.41-.59l7.78-7.78 2.81-2.81c.8-.78.8-2.07 0-2.86zM5.41 20L4 18.59l7.72-7.72 1.47 1.35L5.41 20z\"/>\n",
              "  </svg>\n",
              "      </button>\n",
              "      \n",
              "  <style>\n",
              "    .colab-df-container {\n",
              "      display:flex;\n",
              "      flex-wrap:wrap;\n",
              "      gap: 12px;\n",
              "    }\n",
              "\n",
              "    .colab-df-convert {\n",
              "      background-color: #E8F0FE;\n",
              "      border: none;\n",
              "      border-radius: 50%;\n",
              "      cursor: pointer;\n",
              "      display: none;\n",
              "      fill: #1967D2;\n",
              "      height: 32px;\n",
              "      padding: 0 0 0 0;\n",
              "      width: 32px;\n",
              "    }\n",
              "\n",
              "    .colab-df-convert:hover {\n",
              "      background-color: #E2EBFA;\n",
              "      box-shadow: 0px 1px 2px rgba(60, 64, 67, 0.3), 0px 1px 3px 1px rgba(60, 64, 67, 0.15);\n",
              "      fill: #174EA6;\n",
              "    }\n",
              "\n",
              "    [theme=dark] .colab-df-convert {\n",
              "      background-color: #3B4455;\n",
              "      fill: #D2E3FC;\n",
              "    }\n",
              "\n",
              "    [theme=dark] .colab-df-convert:hover {\n",
              "      background-color: #434B5C;\n",
              "      box-shadow: 0px 1px 3px 1px rgba(0, 0, 0, 0.15);\n",
              "      filter: drop-shadow(0px 1px 2px rgba(0, 0, 0, 0.3));\n",
              "      fill: #FFFFFF;\n",
              "    }\n",
              "  </style>\n",
              "\n",
              "      <script>\n",
              "        const buttonEl =\n",
              "          document.querySelector('#df-3992952d-f637-41e6-aa3b-5888b4a49cd3 button.colab-df-convert');\n",
              "        buttonEl.style.display =\n",
              "          google.colab.kernel.accessAllowed ? 'block' : 'none';\n",
              "\n",
              "        async function convertToInteractive(key) {\n",
              "          const element = document.querySelector('#df-3992952d-f637-41e6-aa3b-5888b4a49cd3');\n",
              "          const dataTable =\n",
              "            await google.colab.kernel.invokeFunction('convertToInteractive',\n",
              "                                                     [key], {});\n",
              "          if (!dataTable) return;\n",
              "\n",
              "          const docLinkHtml = 'Like what you see? Visit the ' +\n",
              "            '<a target=\"_blank\" href=https://colab.research.google.com/notebooks/data_table.ipynb>data table notebook</a>'\n",
              "            + ' to learn more about interactive tables.';\n",
              "          element.innerHTML = '';\n",
              "          dataTable['output_type'] = 'display_data';\n",
              "          await google.colab.output.renderOutput(dataTable, element);\n",
              "          const docLink = document.createElement('div');\n",
              "          docLink.innerHTML = docLinkHtml;\n",
              "          element.appendChild(docLink);\n",
              "        }\n",
              "      </script>\n",
              "    </div>\n",
              "  </div>\n",
              "  "
            ]
          },
          "metadata": {},
          "execution_count": 133
        }
      ],
      "source": [
        "# number of sample in each class of trained model\n",
        "\n",
        "params_dic = {'language': [le.inverse_transform([i])[0] for i in range(len(le.classes_))], \n",
        "              '#samples': modelMNB.class_count_ }\n",
        "langs = pd.DataFrame(params_dic)\n",
        "langs.T"
      ]
    },
    {
      "cell_type": "code",
      "execution_count": 134,
      "metadata": {
        "colab": {
          "base_uri": "https://localhost:8080/",
          "height": 424
        },
        "id": "U0N6FcXmbmGX",
        "outputId": "771d7d2e-70e0-47d0-b0dc-d1e5d19c8aa7"
      },
      "outputs": [
        {
          "output_type": "execute_result",
          "data": {
            "text/plain": [
              "      _a  _a_  _aa  _ab  _ac  _ad  _af  _ag  _ah  _ai  ...  ’e  ’en  ’es  ’i  \\\n",
              "0      1    0    0    0    0    0    0    0    0    0  ...   0    0    0   0   \n",
              "1      0    0    0    0    0    0    0    0    0    0  ...   0    0    0   0   \n",
              "2      0    0    0    0    0    0    0    0    0    0  ...   0    0    0   0   \n",
              "3      2    1    0    0    0    0    0    0    0    0  ...   0    0    0   0   \n",
              "4      0    0    0    0    0    0    0    0    0    0  ...   0    0    0   0   \n",
              "...   ..  ...  ...  ...  ...  ...  ...  ...  ...  ...  ...  ..  ...  ...  ..   \n",
              "2156   0    0    0    0    0    0    0    0    0    0  ...   0    0    0   0   \n",
              "2157   0    0    0    0    0    0    0    0    0    0  ...   0    0    0   0   \n",
              "2158   8    1    0    0    0    0    0    0    0    0  ...   0    0    0   0   \n",
              "2159   0    0    0    0    0    0    0    0    0    0  ...   0    0    0   0   \n",
              "2160   1    0    0    0    1    0    0    0    0    0  ...   0    0    0   0   \n",
              "\n",
              "      ’id  ’in  ’o  ’u  ’é  …_  \n",
              "0       0    0   0   0   0   0  \n",
              "1       0    0   0   0   0   0  \n",
              "2       0    0   0   0   0   0  \n",
              "3       0    0   0   0   0   0  \n",
              "4       0    0   0   0   0   0  \n",
              "...   ...  ...  ..  ..  ..  ..  \n",
              "2156    0    0   0   0   0   0  \n",
              "2157    0    0   0   0   0   0  \n",
              "2158    0    0   0   0   0   0  \n",
              "2159    0    0   0   0   0   0  \n",
              "2160    0    0   0   0   0   0  \n",
              "\n",
              "[2161 rows x 22728 columns]"
            ],
            "text/html": [
              "\n",
              "  <div id=\"df-4740b398-b505-48f0-8204-a94b2eec3ffc\">\n",
              "    <div class=\"colab-df-container\">\n",
              "      <div>\n",
              "<style scoped>\n",
              "    .dataframe tbody tr th:only-of-type {\n",
              "        vertical-align: middle;\n",
              "    }\n",
              "\n",
              "    .dataframe tbody tr th {\n",
              "        vertical-align: top;\n",
              "    }\n",
              "\n",
              "    .dataframe thead th {\n",
              "        text-align: right;\n",
              "    }\n",
              "</style>\n",
              "<table border=\"1\" class=\"dataframe\">\n",
              "  <thead>\n",
              "    <tr style=\"text-align: right;\">\n",
              "      <th></th>\n",
              "      <th>_a</th>\n",
              "      <th>_a_</th>\n",
              "      <th>_aa</th>\n",
              "      <th>_ab</th>\n",
              "      <th>_ac</th>\n",
              "      <th>_ad</th>\n",
              "      <th>_af</th>\n",
              "      <th>_ag</th>\n",
              "      <th>_ah</th>\n",
              "      <th>_ai</th>\n",
              "      <th>...</th>\n",
              "      <th>’e</th>\n",
              "      <th>’en</th>\n",
              "      <th>’es</th>\n",
              "      <th>’i</th>\n",
              "      <th>’id</th>\n",
              "      <th>’in</th>\n",
              "      <th>’o</th>\n",
              "      <th>’u</th>\n",
              "      <th>’é</th>\n",
              "      <th>…_</th>\n",
              "    </tr>\n",
              "  </thead>\n",
              "  <tbody>\n",
              "    <tr>\n",
              "      <th>0</th>\n",
              "      <td>1</td>\n",
              "      <td>0</td>\n",
              "      <td>0</td>\n",
              "      <td>0</td>\n",
              "      <td>0</td>\n",
              "      <td>0</td>\n",
              "      <td>0</td>\n",
              "      <td>0</td>\n",
              "      <td>0</td>\n",
              "      <td>0</td>\n",
              "      <td>...</td>\n",
              "      <td>0</td>\n",
              "      <td>0</td>\n",
              "      <td>0</td>\n",
              "      <td>0</td>\n",
              "      <td>0</td>\n",
              "      <td>0</td>\n",
              "      <td>0</td>\n",
              "      <td>0</td>\n",
              "      <td>0</td>\n",
              "      <td>0</td>\n",
              "    </tr>\n",
              "    <tr>\n",
              "      <th>1</th>\n",
              "      <td>0</td>\n",
              "      <td>0</td>\n",
              "      <td>0</td>\n",
              "      <td>0</td>\n",
              "      <td>0</td>\n",
              "      <td>0</td>\n",
              "      <td>0</td>\n",
              "      <td>0</td>\n",
              "      <td>0</td>\n",
              "      <td>0</td>\n",
              "      <td>...</td>\n",
              "      <td>0</td>\n",
              "      <td>0</td>\n",
              "      <td>0</td>\n",
              "      <td>0</td>\n",
              "      <td>0</td>\n",
              "      <td>0</td>\n",
              "      <td>0</td>\n",
              "      <td>0</td>\n",
              "      <td>0</td>\n",
              "      <td>0</td>\n",
              "    </tr>\n",
              "    <tr>\n",
              "      <th>2</th>\n",
              "      <td>0</td>\n",
              "      <td>0</td>\n",
              "      <td>0</td>\n",
              "      <td>0</td>\n",
              "      <td>0</td>\n",
              "      <td>0</td>\n",
              "      <td>0</td>\n",
              "      <td>0</td>\n",
              "      <td>0</td>\n",
              "      <td>0</td>\n",
              "      <td>...</td>\n",
              "      <td>0</td>\n",
              "      <td>0</td>\n",
              "      <td>0</td>\n",
              "      <td>0</td>\n",
              "      <td>0</td>\n",
              "      <td>0</td>\n",
              "      <td>0</td>\n",
              "      <td>0</td>\n",
              "      <td>0</td>\n",
              "      <td>0</td>\n",
              "    </tr>\n",
              "    <tr>\n",
              "      <th>3</th>\n",
              "      <td>2</td>\n",
              "      <td>1</td>\n",
              "      <td>0</td>\n",
              "      <td>0</td>\n",
              "      <td>0</td>\n",
              "      <td>0</td>\n",
              "      <td>0</td>\n",
              "      <td>0</td>\n",
              "      <td>0</td>\n",
              "      <td>0</td>\n",
              "      <td>...</td>\n",
              "      <td>0</td>\n",
              "      <td>0</td>\n",
              "      <td>0</td>\n",
              "      <td>0</td>\n",
              "      <td>0</td>\n",
              "      <td>0</td>\n",
              "      <td>0</td>\n",
              "      <td>0</td>\n",
              "      <td>0</td>\n",
              "      <td>0</td>\n",
              "    </tr>\n",
              "    <tr>\n",
              "      <th>4</th>\n",
              "      <td>0</td>\n",
              "      <td>0</td>\n",
              "      <td>0</td>\n",
              "      <td>0</td>\n",
              "      <td>0</td>\n",
              "      <td>0</td>\n",
              "      <td>0</td>\n",
              "      <td>0</td>\n",
              "      <td>0</td>\n",
              "      <td>0</td>\n",
              "      <td>...</td>\n",
              "      <td>0</td>\n",
              "      <td>0</td>\n",
              "      <td>0</td>\n",
              "      <td>0</td>\n",
              "      <td>0</td>\n",
              "      <td>0</td>\n",
              "      <td>0</td>\n",
              "      <td>0</td>\n",
              "      <td>0</td>\n",
              "      <td>0</td>\n",
              "    </tr>\n",
              "    <tr>\n",
              "      <th>...</th>\n",
              "      <td>...</td>\n",
              "      <td>...</td>\n",
              "      <td>...</td>\n",
              "      <td>...</td>\n",
              "      <td>...</td>\n",
              "      <td>...</td>\n",
              "      <td>...</td>\n",
              "      <td>...</td>\n",
              "      <td>...</td>\n",
              "      <td>...</td>\n",
              "      <td>...</td>\n",
              "      <td>...</td>\n",
              "      <td>...</td>\n",
              "      <td>...</td>\n",
              "      <td>...</td>\n",
              "      <td>...</td>\n",
              "      <td>...</td>\n",
              "      <td>...</td>\n",
              "      <td>...</td>\n",
              "      <td>...</td>\n",
              "      <td>...</td>\n",
              "    </tr>\n",
              "    <tr>\n",
              "      <th>2156</th>\n",
              "      <td>0</td>\n",
              "      <td>0</td>\n",
              "      <td>0</td>\n",
              "      <td>0</td>\n",
              "      <td>0</td>\n",
              "      <td>0</td>\n",
              "      <td>0</td>\n",
              "      <td>0</td>\n",
              "      <td>0</td>\n",
              "      <td>0</td>\n",
              "      <td>...</td>\n",
              "      <td>0</td>\n",
              "      <td>0</td>\n",
              "      <td>0</td>\n",
              "      <td>0</td>\n",
              "      <td>0</td>\n",
              "      <td>0</td>\n",
              "      <td>0</td>\n",
              "      <td>0</td>\n",
              "      <td>0</td>\n",
              "      <td>0</td>\n",
              "    </tr>\n",
              "    <tr>\n",
              "      <th>2157</th>\n",
              "      <td>0</td>\n",
              "      <td>0</td>\n",
              "      <td>0</td>\n",
              "      <td>0</td>\n",
              "      <td>0</td>\n",
              "      <td>0</td>\n",
              "      <td>0</td>\n",
              "      <td>0</td>\n",
              "      <td>0</td>\n",
              "      <td>0</td>\n",
              "      <td>...</td>\n",
              "      <td>0</td>\n",
              "      <td>0</td>\n",
              "      <td>0</td>\n",
              "      <td>0</td>\n",
              "      <td>0</td>\n",
              "      <td>0</td>\n",
              "      <td>0</td>\n",
              "      <td>0</td>\n",
              "      <td>0</td>\n",
              "      <td>0</td>\n",
              "    </tr>\n",
              "    <tr>\n",
              "      <th>2158</th>\n",
              "      <td>8</td>\n",
              "      <td>1</td>\n",
              "      <td>0</td>\n",
              "      <td>0</td>\n",
              "      <td>0</td>\n",
              "      <td>0</td>\n",
              "      <td>0</td>\n",
              "      <td>0</td>\n",
              "      <td>0</td>\n",
              "      <td>0</td>\n",
              "      <td>...</td>\n",
              "      <td>0</td>\n",
              "      <td>0</td>\n",
              "      <td>0</td>\n",
              "      <td>0</td>\n",
              "      <td>0</td>\n",
              "      <td>0</td>\n",
              "      <td>0</td>\n",
              "      <td>0</td>\n",
              "      <td>0</td>\n",
              "      <td>0</td>\n",
              "    </tr>\n",
              "    <tr>\n",
              "      <th>2159</th>\n",
              "      <td>0</td>\n",
              "      <td>0</td>\n",
              "      <td>0</td>\n",
              "      <td>0</td>\n",
              "      <td>0</td>\n",
              "      <td>0</td>\n",
              "      <td>0</td>\n",
              "      <td>0</td>\n",
              "      <td>0</td>\n",
              "      <td>0</td>\n",
              "      <td>...</td>\n",
              "      <td>0</td>\n",
              "      <td>0</td>\n",
              "      <td>0</td>\n",
              "      <td>0</td>\n",
              "      <td>0</td>\n",
              "      <td>0</td>\n",
              "      <td>0</td>\n",
              "      <td>0</td>\n",
              "      <td>0</td>\n",
              "      <td>0</td>\n",
              "    </tr>\n",
              "    <tr>\n",
              "      <th>2160</th>\n",
              "      <td>1</td>\n",
              "      <td>0</td>\n",
              "      <td>0</td>\n",
              "      <td>0</td>\n",
              "      <td>1</td>\n",
              "      <td>0</td>\n",
              "      <td>0</td>\n",
              "      <td>0</td>\n",
              "      <td>0</td>\n",
              "      <td>0</td>\n",
              "      <td>...</td>\n",
              "      <td>0</td>\n",
              "      <td>0</td>\n",
              "      <td>0</td>\n",
              "      <td>0</td>\n",
              "      <td>0</td>\n",
              "      <td>0</td>\n",
              "      <td>0</td>\n",
              "      <td>0</td>\n",
              "      <td>0</td>\n",
              "      <td>0</td>\n",
              "    </tr>\n",
              "  </tbody>\n",
              "</table>\n",
              "<p>2161 rows × 22728 columns</p>\n",
              "</div>\n",
              "      <button class=\"colab-df-convert\" onclick=\"convertToInteractive('df-4740b398-b505-48f0-8204-a94b2eec3ffc')\"\n",
              "              title=\"Convert this dataframe to an interactive table.\"\n",
              "              style=\"display:none;\">\n",
              "        \n",
              "  <svg xmlns=\"http://www.w3.org/2000/svg\" height=\"24px\"viewBox=\"0 0 24 24\"\n",
              "       width=\"24px\">\n",
              "    <path d=\"M0 0h24v24H0V0z\" fill=\"none\"/>\n",
              "    <path d=\"M18.56 5.44l.94 2.06.94-2.06 2.06-.94-2.06-.94-.94-2.06-.94 2.06-2.06.94zm-11 1L8.5 8.5l.94-2.06 2.06-.94-2.06-.94L8.5 2.5l-.94 2.06-2.06.94zm10 10l.94 2.06.94-2.06 2.06-.94-2.06-.94-.94-2.06-.94 2.06-2.06.94z\"/><path d=\"M17.41 7.96l-1.37-1.37c-.4-.4-.92-.59-1.43-.59-.52 0-1.04.2-1.43.59L10.3 9.45l-7.72 7.72c-.78.78-.78 2.05 0 2.83L4 21.41c.39.39.9.59 1.41.59.51 0 1.02-.2 1.41-.59l7.78-7.78 2.81-2.81c.8-.78.8-2.07 0-2.86zM5.41 20L4 18.59l7.72-7.72 1.47 1.35L5.41 20z\"/>\n",
              "  </svg>\n",
              "      </button>\n",
              "      \n",
              "  <style>\n",
              "    .colab-df-container {\n",
              "      display:flex;\n",
              "      flex-wrap:wrap;\n",
              "      gap: 12px;\n",
              "    }\n",
              "\n",
              "    .colab-df-convert {\n",
              "      background-color: #E8F0FE;\n",
              "      border: none;\n",
              "      border-radius: 50%;\n",
              "      cursor: pointer;\n",
              "      display: none;\n",
              "      fill: #1967D2;\n",
              "      height: 32px;\n",
              "      padding: 0 0 0 0;\n",
              "      width: 32px;\n",
              "    }\n",
              "\n",
              "    .colab-df-convert:hover {\n",
              "      background-color: #E2EBFA;\n",
              "      box-shadow: 0px 1px 2px rgba(60, 64, 67, 0.3), 0px 1px 3px 1px rgba(60, 64, 67, 0.15);\n",
              "      fill: #174EA6;\n",
              "    }\n",
              "\n",
              "    [theme=dark] .colab-df-convert {\n",
              "      background-color: #3B4455;\n",
              "      fill: #D2E3FC;\n",
              "    }\n",
              "\n",
              "    [theme=dark] .colab-df-convert:hover {\n",
              "      background-color: #434B5C;\n",
              "      box-shadow: 0px 1px 3px 1px rgba(0, 0, 0, 0.15);\n",
              "      filter: drop-shadow(0px 1px 2px rgba(0, 0, 0, 0.3));\n",
              "      fill: #FFFFFF;\n",
              "    }\n",
              "  </style>\n",
              "\n",
              "      <script>\n",
              "        const buttonEl =\n",
              "          document.querySelector('#df-4740b398-b505-48f0-8204-a94b2eec3ffc button.colab-df-convert');\n",
              "        buttonEl.style.display =\n",
              "          google.colab.kernel.accessAllowed ? 'block' : 'none';\n",
              "\n",
              "        async function convertToInteractive(key) {\n",
              "          const element = document.querySelector('#df-4740b398-b505-48f0-8204-a94b2eec3ffc');\n",
              "          const dataTable =\n",
              "            await google.colab.kernel.invokeFunction('convertToInteractive',\n",
              "                                                     [key], {});\n",
              "          if (!dataTable) return;\n",
              "\n",
              "          const docLinkHtml = 'Like what you see? Visit the ' +\n",
              "            '<a target=\"_blank\" href=https://colab.research.google.com/notebooks/data_table.ipynb>data table notebook</a>'\n",
              "            + ' to learn more about interactive tables.';\n",
              "          element.innerHTML = '';\n",
              "          dataTable['output_type'] = 'display_data';\n",
              "          await google.colab.output.renderOutput(dataTable, element);\n",
              "          const docLink = document.createElement('div');\n",
              "          docLink.innerHTML = docLinkHtml;\n",
              "          element.appendChild(docLink);\n",
              "        }\n",
              "      </script>\n",
              "    </div>\n",
              "  </div>\n",
              "  "
            ]
          },
          "metadata": {},
          "execution_count": 134
        }
      ],
      "source": [
        "#model = pickle.load(open('model.pkl', 'rb'))\n",
        "pd.DataFrame(x_test, columns=cv.get_feature_names())\n",
        "#cv.get_feature_names()[0], cv.get_feature_names()[1] "
      ]
    },
    {
      "cell_type": "code",
      "execution_count": 135,
      "metadata": {
        "id": "Q-nNiasBbmGX"
      },
      "outputs": [],
      "source": [
        "# Prediction \n",
        "y_pred = modelMNB.predict(x_test)"
      ]
    },
    {
      "cell_type": "markdown",
      "metadata": {
        "id": "H--wLtfibmGX"
      },
      "source": [
        "### Evaluating the MNB model"
      ]
    },
    {
      "cell_type": "code",
      "execution_count": 136,
      "metadata": {
        "id": "a8MWqm9IbmGY"
      },
      "outputs": [],
      "source": [
        "from sklearn.metrics import accuracy_score, confusion_matrix, classification_report, f1_score\n",
        "\n",
        "ac = accuracy_score(y_test, y_pred)\n",
        "cm = confusion_matrix(y_test, y_pred)\n",
        "cr = classification_report(y_test, y_pred, target_names=np.unique(le.inverse_transform(y_test)))"
      ]
    },
    {
      "cell_type": "code",
      "execution_count": 137,
      "metadata": {
        "colab": {
          "base_uri": "https://localhost:8080/"
        },
        "id": "HMMl8fkQbmGY",
        "outputId": "82e7be7c-7552-4336-d182-a8b04d0e1adf"
      },
      "outputs": [
        {
          "output_type": "stream",
          "name": "stdout",
          "text": [
            "Accuracy is : 0.985192040721888\n"
          ]
        }
      ],
      "source": [
        "print(\"Accuracy is :\",ac)"
      ]
    },
    {
      "cell_type": "code",
      "execution_count": 138,
      "metadata": {
        "colab": {
          "base_uri": "https://localhost:8080/"
        },
        "id": "35t3yAJ7bmGY",
        "outputId": "e9a6b94e-e5b0-44df-d0b8-62868daa9aec"
      },
      "outputs": [
        {
          "output_type": "stream",
          "name": "stdout",
          "text": [
            "              precision    recall  f1-score   support\n",
            "\n",
            "      Arabic       1.00      0.98      0.99       104\n",
            "      Danish       1.00      0.90      0.95        91\n",
            "       Dutch       0.98      0.99      0.99       107\n",
            "     English       0.98      0.99      0.99       292\n",
            "      French       0.97      0.99      0.98       194\n",
            "      German       0.99      0.99      0.99        93\n",
            "       Greek       1.00      1.00      1.00        72\n",
            "       Hindi       1.00      1.00      1.00        15\n",
            "     Italian       0.96      0.98      0.97       124\n",
            "     Kannada       1.00      1.00      1.00        67\n",
            "   Malayalam       1.00      1.00      1.00       133\n",
            "     Persian       0.99      1.00      0.99        98\n",
            "  Portuguese       0.98      0.98      0.98       125\n",
            "     Russian       1.00      1.00      1.00       145\n",
            "     Spanish       0.99      0.95      0.97       163\n",
            "     Swedish       0.95      0.99      0.97       142\n",
            "       Tamil       1.00      1.00      1.00       105\n",
            "     Turkish       0.99      0.99      0.99        91\n",
            "\n",
            "    accuracy                           0.99      2161\n",
            "   macro avg       0.99      0.99      0.99      2161\n",
            "weighted avg       0.99      0.99      0.99      2161\n",
            "\n"
          ]
        }
      ],
      "source": [
        "# classification report\n",
        "print(cr)"
      ]
    },
    {
      "cell_type": "code",
      "execution_count": 139,
      "metadata": {
        "colab": {
          "base_uri": "https://localhost:8080/",
          "height": 362
        },
        "id": "BjT3OxRIbmGY",
        "outputId": "d46a16ac-77b9-48e0-8148-f04be244a405",
        "scrolled": true
      },
      "outputs": [
        {
          "output_type": "display_data",
          "data": {
            "text/plain": [
              "<Figure size 504x360 with 2 Axes>"
            ],
            "image/png": "[encoded data removed]"
          },
          "metadata": {}
        }
      ],
      "source": [
        "# visualising the confusion matrix\n",
        "\n",
        "import seaborn as sns\n",
        "\n",
        "labels = pd.DataFrame(cm).applymap(lambda v: f\"{v}\" if v!=0 else f\"\")\n",
        "ticks = np.unique(le.inverse_transform(y_test))\n",
        "plt.figure(figsize=(7,5))\n",
        "sns.heatmap(cm, annot=labels, fmt='s', xticklabels=ticks, yticklabels=ticks, linewidths=0 )\n",
        "plt.savefig('confusionMat.pdf', dpi=600)\n",
        "plt.show()"
      ]
    },
    {
      "cell_type": "code",
      "execution_count": 140,
      "metadata": {
        "colab": {
          "base_uri": "https://localhost:8080/"
        },
        "id": "4XhbaPxW5ZYe",
        "outputId": "57623729-ce36-4fcd-fa2a-3a98a4d24a66"
      },
      "outputs": [
        {
          "output_type": "execute_result",
          "data": {
            "text/plain": [
              "array(['English', 'Arabic', 'Persian', 'Swedish', 'Italian', 'Swedish'],\n",
              "      dtype=object)"
            ]
          },
          "metadata": {},
          "execution_count": 140
        }
      ],
      "source": [
        "s = [\"this is test for 4th.\",\n",
        "     \"أي تغيير  يتلاعب  بطريقة  بشكل  بسلامة يعتبر\",\n",
        "     \"امروز هوا بارانی است.\",\n",
        "     \"Eftersom Wikipedia bygger på tidskriftsartiklar, forskningspublikationer och böcker finns risk för rundgång \",\n",
        "     \"loro tre erano amiche da secoli, ma Terry ed Ellie avevano un segreto entrambe.\",\n",
        "     \"Ja\",]\n",
        "sv = cv.transform(s).toarray()\n",
        "l = modelMNB.predict(sv)\n",
        "le.inverse_transform(l)"
      ]
    },
    {
      "cell_type": "markdown",
      "metadata": {
        "id": "wGQw4gu5bmGY"
      },
      "source": [
        "### Model Saving"
      ]
    },
    {
      "cell_type": "code",
      "execution_count": 141,
      "metadata": {
        "id": "0K6i_htmbmGZ"
      },
      "outputs": [],
      "source": [
        "# saving both cv and nbmodel\n",
        "\n",
        "#import pickle\n",
        "\n",
        "#pickle.dump(cv, open(\"transform.pkl\", \"wb\"))\n",
        "#pickle.dump(model, open(\"model.pkl\", \"wb\"))"
      ]
    },
    {
      "cell_type": "markdown",
      "metadata": {
        "id": "-vf4RbKDbmGZ"
      },
      "source": [
        "## Neural Network model"
      ]
    },
    {
      "cell_type": "code",
      "execution_count": 142,
      "metadata": {
        "id": "24HTS2mCbmGa"
      },
      "outputs": [],
      "source": [
        "import torch\n",
        "import torch.nn as nn\n",
        "import torch.nn.functional as F\n",
        "from torch.optim import Adam\n",
        "from torch.optim.lr_scheduler import StepLR\n",
        "from torchsummary import summary\n",
        "\n",
        "device = torch.device(\"cuda\" if torch.cuda.is_available() else \"cpu\")"
      ]
    },
    {
      "cell_type": "code",
      "execution_count": 143,
      "metadata": {
        "id": "8fnYj7RWKBFI"
      },
      "outputs": [],
      "source": [
        "from collections import Counter, defaultdict\n",
        "import math, time\n",
        "\n",
        "def timeSince(since):\n",
        "    now = time.time()\n",
        "    s = now - since\n",
        "    m = math.floor(s / 60)\n",
        "    s -= m * 60\n",
        "    return '%dm %ds' % (m, s)"
      ]
    },
    {
      "cell_type": "markdown",
      "source": [
        "A two-layer Neural Neworks with Fully Connected layers and ReLU as its nonlinearity, this network outperforms our baseline -- MultiNaive Bayes model"
      ],
      "metadata": {
        "id": "yt0wRxXfzvK8"
      }
    },
    {
      "cell_type": "code",
      "execution_count": 144,
      "metadata": {
        "id": "8N06zDLK89Fd",
        "colab": {
          "base_uri": "https://localhost:8080/"
        },
        "outputId": "67eabf95-7811-44f6-f97d-142d5f118c84"
      },
      "outputs": [
        {
          "output_type": "stream",
          "name": "stdout",
          "text": [
            "----------------------------------------------------------------\n",
            "        Layer (type)               Output Shape         Param #\n",
            "================================================================\n",
            "            Linear-1                   [-1, 72]       1,636,488\n",
            "              ReLU-2                   [-1, 72]               0\n",
            "           Dropout-3                   [-1, 72]               0\n",
            "            Linear-4                   [-1, 18]           1,314\n",
            "              ReLU-5                   [-1, 18]               0\n",
            "================================================================\n",
            "Total params: 1,637,802\n",
            "Trainable params: 1,637,802\n",
            "Non-trainable params: 0\n",
            "----------------------------------------------------------------\n",
            "Input size (MB): 0.09\n",
            "Forward/backward pass size (MB): 0.00\n",
            "Params size (MB): 6.25\n",
            "Estimated Total Size (MB): 6.34\n",
            "----------------------------------------------------------------\n"
          ]
        }
      ],
      "source": [
        "\n",
        "class Net(nn.Module):\n",
        "  def __init__(self, input_size, output_size, dropout=0.6):\n",
        "    super(Net, self).__init__()\n",
        "    self.linear_relu_stack = nn.Sequential(\n",
        "            nn.Linear(input_size, output_size*4),\n",
        "            nn.ReLU(), nn.Dropout(dropout),\n",
        "            nn.Linear(output_size*4, output_size),\n",
        "            nn.ReLU()\n",
        "    )\n",
        "\n",
        "  def forward(self, x):\n",
        "    return self.linear_relu_stack(x)\n",
        "\n",
        "input_size = len(cv.vocabulary_)\n",
        "output_size = len(le.classes_)\n",
        "\n",
        "summary(Net(input_size, output_size), input_size=(input_size,), batch_size=-1,  device='cpu')"
      ]
    },
    {
      "cell_type": "code",
      "execution_count": 281,
      "metadata": {
        "id": "rFxoq8ItBe6l",
        "colab": {
          "base_uri": "https://localhost:8080/"
        },
        "outputId": "3eea766d-15f4-44de-8e0c-cafb87e33de7"
      },
      "outputs": [
        {
          "output_type": "stream",
          "name": "stdout",
          "text": [
            "Training Starts ...\n",
            "====> Epoch [  0] Train/Validation loss: 18.251189142/0.309439778 :: Accuracy: 87.50000/94.16937, F1 Scores: 0.85648/0.92950\n",
            "====> Epoch [  1] Train/Validation loss: 5.206183702/0.225673541 :: Accuracy: 92.77344/93.70662, F1 Scores: 0.90604/0.91481\n",
            "====> Epoch [  2] Train/Validation loss: 4.054428026/0.206812635 :: Accuracy: 93.35938/94.12309, F1 Scores: 0.91182/0.92179\n",
            "====> Epoch [  3] Train/Validation loss: 3.515053019/0.199387848 :: Accuracy: 94.14062/94.07682, F1 Scores: 0.92002/0.91907\n",
            "====> Epoch [  4] Train/Validation loss: 3.398608297/0.194963917 :: Accuracy: 93.55469/94.03054, F1 Scores: 0.91357/0.92080\n",
            "====> Epoch [  6] Train/Validation loss: 1.852691412/0.062917084 :: Accuracy: 98.82812/98.56548, F1 Scores: 0.98796/0.98559\n",
            "====> Epoch [  8] Train/Validation loss: 1.127012305/0.060249705 :: Accuracy: 99.21875/98.47293, F1 Scores: 0.99224/0.98470\n",
            "====> Epoch [ 10] Train/Validation loss: 0.600376813/0.058520745 :: Accuracy: 99.21875/98.61175, F1 Scores: 0.99217/0.98608\n",
            "====> Epoch [ 12] Train/Validation loss: 0.522944465/0.054713946 :: Accuracy: 99.41406/98.61175, F1 Scores: 0.99410/0.98607\n",
            "====> Epoch [ 14] Train/Validation loss: 0.500934402/0.054058686 :: Accuracy: 99.21875/98.75058, F1 Scores: 0.99188/0.98747\n",
            "====> Epoch [ 16] Train/Validation loss: 0.405865645/0.056996461 :: Accuracy: 99.21875/98.70430, F1 Scores: 0.99217/0.98701\n",
            "====> Epoch [ 18] Train/Validation loss: 0.487891514/0.063021712 :: Accuracy: 99.80469/98.61175, F1 Scores: 0.99804/0.98607\n",
            "====> Epoch [ 20] Train/Validation loss: 0.319776988/0.062528610 :: Accuracy: 99.80469/98.56548, F1 Scores: 0.99806/0.98561\n",
            "Training ends at 0m 16s\n"
          ]
        }
      ],
      "source": [
        "def fwd_pass(X, y, net, loss_function, optimizer, train=False):\n",
        "    if train: net.train()\n",
        "    else:     net.eval()\n",
        "\n",
        "    outputs = net(X)\n",
        "    with torch.no_grad():\n",
        "      out = outputs.argmax(dim=1)\n",
        "      acc = accuracy_score(y.cpu(), out.cpu())\n",
        "      f1 = f1_score(y.cpu(), out.cpu(), average=\"weighted\")\n",
        "    loss = loss_function(outputs, y)\n",
        "\n",
        "    if train:\n",
        "      optimizer.zero_grad()\n",
        "      loss.backward()\n",
        "      optimizer.step()\n",
        "\n",
        "    return loss, acc, f1\n",
        "\n",
        "\n",
        "X_test = torch.tensor(x_test, dtype=torch.float).to(device)\n",
        "Y_test = torch.tensor(y_test, dtype=torch.long).to(device)\n",
        "\n",
        "lr = 0.01\n",
        "epochs = 20\n",
        "batch = 512\n",
        "\n",
        "input_size = len(cv.vocabulary_)\n",
        "output_size = len(le.classes_)\n",
        "modelNN = Net(input_size, output_size).to(device)\n",
        "bestModel = modelNN\n",
        "\n",
        "optimizer = Adam(modelNN.parameters(), lr=lr)\n",
        "lr_scheduler = StepLR(optimizer, step_size=10, gamma=0.86)\n",
        "criterion = nn.CrossEntropyLoss()\n",
        "\n",
        "print_every = epochs//10\n",
        "train_losses, val_losses = [], []\n",
        "accuracies, val_accuracies = [], []\n",
        "f1s, val_f1s = [], []\n",
        "\n",
        "\n",
        "torch.manual_seed(1234)\n",
        "\n",
        "start = time.time()\n",
        "print(f'Training Starts ...')\n",
        "n =  batch * int(len(x_train)/batch)\n",
        "\n",
        "best_loss = float(inf)\n",
        "\n",
        "for epoch in range(epochs+1):\n",
        "    train_loss, test_loss = 0, 0\n",
        "    for i in range(int(len(x_train)/batch)):\n",
        "        print(f'\\rCycle{i:3} from {int(len(x_train)/batch):3} in epoch {epoch:3}', end='')\n",
        "        loss, acc, f1 = fwd_pass(\n",
        "            torch.tensor(x_train[(i) * batch: (i+1) * batch], dtype=torch.float).view(batch, -1).to(device), # X\n",
        "            torch.tensor(y_train[(i)*batch:(i+1)*batch], dtype=torch.long).to(device), # Y\n",
        "            modelNN, criterion, optimizer, True)\n",
        "        train_loss += loss.item()\n",
        "\n",
        "    train_losses.append(train_loss)\n",
        "    accuracies.append(acc)\n",
        "    f1s.append(f1)\n",
        "    \n",
        "    val_loss, val_acc, val_f1 = fwd_pass(X_test, Y_test, modelNN, criterion, optimizer, False)\n",
        "    val_accuracies.append(val_acc)\n",
        "    val_losses.append(val_loss.item())\n",
        "    val_f1s.append(val_f1)\n",
        "\n",
        "    if  best_loss>val_loss:\n",
        "      best_loss=val_loss\n",
        "      best_model = modelNN\n",
        "    lr_scheduler.step()\n",
        "\n",
        "    if epoch <= 3 or epoch%print_every==0: \n",
        "        print(f'\\r====> Epoch [{epoch:3}] Train/Validation loss: {train_loss:.9f}/{val_loss:.9f} :: Accuracy: {acc*100:7.5f}/{val_acc*100:7.5f}, F1 Scores: {f1:.5f}/{val_f1:.5f}')\n",
        "\n",
        "        \n",
        "print(f\"Training ends at {timeSince(start)}\")"
      ]
    },
    {
      "cell_type": "code",
      "execution_count": 282,
      "metadata": {
        "id": "daMiXZmnNrIR",
        "colab": {
          "base_uri": "https://localhost:8080/",
          "height": 845
        },
        "outputId": "f6ba986c-0bd2-41b6-884f-ddc298747e02"
      },
      "outputs": [
        {
          "output_type": "stream",
          "name": "stdout",
          "text": [
            "Using matplotlib backend: agg\n",
            "Populating the interactive namespace from numpy and matplotlib\n"
          ]
        },
        {
          "output_type": "display_data",
          "data": {
            "text/plain": [
              "<Figure size 1224x432 with 2 Axes>"
            ],
            "image/png": "[encoded data removed]"
          },
          "metadata": {
            "needs_background": "light"
          }
        },
        {
          "output_type": "display_data",
          "data": {
            "text/plain": [
              "<Figure size 1224x432 with 2 Axes>"
            ],
            "image/png": "[encoded data removed]"
          },
          "metadata": {
            "needs_background": "light"
          }
        },
        {
          "output_type": "execute_result",
          "data": {
            "text/plain": [
              "(None,)"
            ]
          },
          "metadata": {},
          "execution_count": 282
        }
      ],
      "source": [
        "%pylab\n",
        "%matplotlib inline\n",
        "\n",
        "def res_plot(plotdata, xlabel='epoch', ylabel='losses', legend=['Train','Valid'], title=''):\n",
        "    fig, (ax1, ax2) = plt.subplots(1,2, figsize = (17,6))\n",
        "    ax1.set_ylabel(ylabel)\n",
        "    for ax in (ax1, ax2):\n",
        "        n = 10 if ax==ax2 else 0\n",
        "        x = range(epochs-n+1, epoch+1) if ax==ax2 else range(epochs+1)\n",
        "        title = f\"{title} ({n} last values)\" if ax==ax2 else title\n",
        "        ax.set_xlabel(xlabel)\n",
        "        ax.set_title(title)\n",
        "        ax.plot(x, plotdata[0][-n:], '-o', label=legend[0])\n",
        "        ax.plot(x, plotdata[1][-n:], '-o', label=legend[1])\n",
        "        ax.legend()\n",
        "    plt.show()\n",
        "\n",
        "\n",
        "res_plot([(train_losses), (val_losses)], title='Train vs Valid Losses')\n",
        "res_plot([accuracies, val_accuracies], ylabel='Accuracy', title='Train vs Valid Accuracies'), "
      ]
    },
    {
      "cell_type": "code",
      "execution_count": 283,
      "metadata": {
        "id": "ghHelYxyI12u",
        "colab": {
          "base_uri": "https://localhost:8080/",
          "height": 575
        },
        "outputId": "3735f155-fd05-4c80-e768-887be488e3b5"
      },
      "outputs": [
        {
          "output_type": "stream",
          "name": "stdout",
          "text": [
            "Accuracy is 0.985654789449329\n",
            "f1-score is 0.9856066460964164\n"
          ]
        },
        {
          "output_type": "display_data",
          "data": {
            "text/plain": [
              "<Figure size 720x576 with 2 Axes>"
            ],
            "image/png": "[encoded data removed]"
          },
          "metadata": {
            "needs_background": "light"
          }
        }
      ],
      "source": [
        "best_model.eval()\n",
        "out = best_model(X_test).to(device)\n",
        "out = out.argmax(dim=1)\n",
        "accuracy = accuracy_score(y_test, out.cpu())\n",
        "f1score = f1_score(Y_test.cpu(), out.cpu(), average='weighted')\n",
        "print(f\"Accuracy is {accuracy}\\nf1-score is {f1score}\")    \n",
        "\n",
        "conf_matrix = confusion_matrix(y_pred=out.cpu(), y_true=y_test)\n",
        "ticks = [le.inverse_transform([j])[0] for j in range(len(le.classes_))]\n",
        "df_cm = pd.DataFrame(conf_matrix, columns=ticks , index=ticks)\n",
        "df_cm.index.name = 'Actual'\n",
        "df_cm.columns.name = 'Predicted'\n",
        "plt.figure(figsize = (10,8))\n",
        "sns.set(font_scale = .8)\n",
        "labels = pd.DataFrame(df_cm).applymap(lambda v: f\"{v}\" if v!=0 else f\"\")\n",
        "sns.heatmap(df_cm,annot=labels,fmt=\"s\",linewidths=.5)\n",
        "plt.show()"
      ]
    },
    {
      "cell_type": "markdown",
      "metadata": {
        "id": "vPUPhDHSCuNL"
      },
      "source": [
        "# Evaluating the accuracy of Neural Network model on unseen data"
      ]
    },
    {
      "cell_type": "code",
      "execution_count": 284,
      "metadata": {
        "id": "K8VkT3Dt0HOl",
        "colab": {
          "base_uri": "https://localhost:8080/"
        },
        "outputId": "328069df-8a17-4e6b-cc80-3de580cd1411"
      },
      "outputs": [
        {
          "output_type": "stream",
          "name": "stdout",
          "text": [
            "CPU times: user 55.4 ms, sys: 5.98 ms, total: 61.4 ms\n",
            "Wall time: 62.4 ms\n"
          ]
        }
      ],
      "source": [
        "# Dataset is given from https://ufal.mff.cuni.cz/~kocmanek/2016/docs/lanidenn_testset.txt\n",
        "#%time ldata = pd.read_csv(\"/content/drive/MyDrive/lanidenn_testset.csv\", delimiter=\"^\", header=None, names=['Language', 'Text'])\n",
        "%time ldata = pd.read_csv(\"lanidenn_testset.csv\", delimiter=\"^\", header=None, names=['Language', 'Text'])"
      ]
    },
    {
      "cell_type": "code",
      "execution_count": 285,
      "metadata": {
        "id": "wJbGWxcP1W0c",
        "colab": {
          "base_uri": "https://localhost:8080/",
          "height": 363
        },
        "outputId": "754d75b2-b19c-4fde-b62b-a19af4e9254a"
      },
      "outputs": [
        {
          "output_type": "execute_result",
          "data": {
            "text/plain": [
              "  Language                                               Text\n",
              "0      hif   Ii sandhi 1919 me, bina German sarkar ke part...\n",
              "1      mkd   Наум Охридски“ на брегот на Охридското Езеро ...\n",
              "2      fry   De 23-jierrige Chris de Wagt trochrûn by SK C...\n",
              "3      lus   Mi 1500 chuang exam paper, ni hnih khat leka ...\n",
              "4      ast   El Burj Khalifa ye actualmente el rascacielos...\n",
              "5      pan                         ਮੈਨੂੰ ਉਸ ਦੀ ਖ਼ੁਸ਼ਬੂ ਪਸੰਦ ਹੈ।\n",
              "6      cos   La Grecia entra in guerra è si schjera cù l'I...\n",
              "7      scn   Doppu aviri pirdutu la battagghia ligali cu J...\n",
              "8      zho   许多普通农民不敢对他们的领主反抗，因为他们在许多方面依靠这些领主。尤其农村的上层阶层呼吁改...\n",
              "9      nds                        He weet nich, ’keen ik bün."
            ],
            "text/html": [
              "\n",
              "  <div id=\"df-1ab751d9-f242-4e71-8370-87c9925171db\">\n",
              "    <div class=\"colab-df-container\">\n",
              "      <div>\n",
              "<style scoped>\n",
              "    .dataframe tbody tr th:only-of-type {\n",
              "        vertical-align: middle;\n",
              "    }\n",
              "\n",
              "    .dataframe tbody tr th {\n",
              "        vertical-align: top;\n",
              "    }\n",
              "\n",
              "    .dataframe thead th {\n",
              "        text-align: right;\n",
              "    }\n",
              "</style>\n",
              "<table border=\"1\" class=\"dataframe\">\n",
              "  <thead>\n",
              "    <tr style=\"text-align: right;\">\n",
              "      <th></th>\n",
              "      <th>Language</th>\n",
              "      <th>Text</th>\n",
              "    </tr>\n",
              "  </thead>\n",
              "  <tbody>\n",
              "    <tr>\n",
              "      <th>0</th>\n",
              "      <td>hif</td>\n",
              "      <td>Ii sandhi 1919 me, bina German sarkar ke part...</td>\n",
              "    </tr>\n",
              "    <tr>\n",
              "      <th>1</th>\n",
              "      <td>mkd</td>\n",
              "      <td>Наум Охридски“ на брегот на Охридското Езеро ...</td>\n",
              "    </tr>\n",
              "    <tr>\n",
              "      <th>2</th>\n",
              "      <td>fry</td>\n",
              "      <td>De 23-jierrige Chris de Wagt trochrûn by SK C...</td>\n",
              "    </tr>\n",
              "    <tr>\n",
              "      <th>3</th>\n",
              "      <td>lus</td>\n",
              "      <td>Mi 1500 chuang exam paper, ni hnih khat leka ...</td>\n",
              "    </tr>\n",
              "    <tr>\n",
              "      <th>4</th>\n",
              "      <td>ast</td>\n",
              "      <td>El Burj Khalifa ye actualmente el rascacielos...</td>\n",
              "    </tr>\n",
              "    <tr>\n",
              "      <th>5</th>\n",
              "      <td>pan</td>\n",
              "      <td>ਮੈਨੂੰ ਉਸ ਦੀ ਖ਼ੁਸ਼ਬੂ ਪਸੰਦ ਹੈ।</td>\n",
              "    </tr>\n",
              "    <tr>\n",
              "      <th>6</th>\n",
              "      <td>cos</td>\n",
              "      <td>La Grecia entra in guerra è si schjera cù l'I...</td>\n",
              "    </tr>\n",
              "    <tr>\n",
              "      <th>7</th>\n",
              "      <td>scn</td>\n",
              "      <td>Doppu aviri pirdutu la battagghia ligali cu J...</td>\n",
              "    </tr>\n",
              "    <tr>\n",
              "      <th>8</th>\n",
              "      <td>zho</td>\n",
              "      <td>许多普通农民不敢对他们的领主反抗，因为他们在许多方面依靠这些领主。尤其农村的上层阶层呼吁改...</td>\n",
              "    </tr>\n",
              "    <tr>\n",
              "      <th>9</th>\n",
              "      <td>nds</td>\n",
              "      <td>He weet nich, ’keen ik bün.</td>\n",
              "    </tr>\n",
              "  </tbody>\n",
              "</table>\n",
              "</div>\n",
              "      <button class=\"colab-df-convert\" onclick=\"convertToInteractive('df-1ab751d9-f242-4e71-8370-87c9925171db')\"\n",
              "              title=\"Convert this dataframe to an interactive table.\"\n",
              "              style=\"display:none;\">\n",
              "        \n",
              "  <svg xmlns=\"http://www.w3.org/2000/svg\" height=\"24px\"viewBox=\"0 0 24 24\"\n",
              "       width=\"24px\">\n",
              "    <path d=\"M0 0h24v24H0V0z\" fill=\"none\"/>\n",
              "    <path d=\"M18.56 5.44l.94 2.06.94-2.06 2.06-.94-2.06-.94-.94-2.06-.94 2.06-2.06.94zm-11 1L8.5 8.5l.94-2.06 2.06-.94-2.06-.94L8.5 2.5l-.94 2.06-2.06.94zm10 10l.94 2.06.94-2.06 2.06-.94-2.06-.94-.94-2.06-.94 2.06-2.06.94z\"/><path d=\"M17.41 7.96l-1.37-1.37c-.4-.4-.92-.59-1.43-.59-.52 0-1.04.2-1.43.59L10.3 9.45l-7.72 7.72c-.78.78-.78 2.05 0 2.83L4 21.41c.39.39.9.59 1.41.59.51 0 1.02-.2 1.41-.59l7.78-7.78 2.81-2.81c.8-.78.8-2.07 0-2.86zM5.41 20L4 18.59l7.72-7.72 1.47 1.35L5.41 20z\"/>\n",
              "  </svg>\n",
              "      </button>\n",
              "      \n",
              "  <style>\n",
              "    .colab-df-container {\n",
              "      display:flex;\n",
              "      flex-wrap:wrap;\n",
              "      gap: 12px;\n",
              "    }\n",
              "\n",
              "    .colab-df-convert {\n",
              "      background-color: #E8F0FE;\n",
              "      border: none;\n",
              "      border-radius: 50%;\n",
              "      cursor: pointer;\n",
              "      display: none;\n",
              "      fill: #1967D2;\n",
              "      height: 32px;\n",
              "      padding: 0 0 0 0;\n",
              "      width: 32px;\n",
              "    }\n",
              "\n",
              "    .colab-df-convert:hover {\n",
              "      background-color: #E2EBFA;\n",
              "      box-shadow: 0px 1px 2px rgba(60, 64, 67, 0.3), 0px 1px 3px 1px rgba(60, 64, 67, 0.15);\n",
              "      fill: #174EA6;\n",
              "    }\n",
              "\n",
              "    [theme=dark] .colab-df-convert {\n",
              "      background-color: #3B4455;\n",
              "      fill: #D2E3FC;\n",
              "    }\n",
              "\n",
              "    [theme=dark] .colab-df-convert:hover {\n",
              "      background-color: #434B5C;\n",
              "      box-shadow: 0px 1px 3px 1px rgba(0, 0, 0, 0.15);\n",
              "      filter: drop-shadow(0px 1px 2px rgba(0, 0, 0, 0.3));\n",
              "      fill: #FFFFFF;\n",
              "    }\n",
              "  </style>\n",
              "\n",
              "      <script>\n",
              "        const buttonEl =\n",
              "          document.querySelector('#df-1ab751d9-f242-4e71-8370-87c9925171db button.colab-df-convert');\n",
              "        buttonEl.style.display =\n",
              "          google.colab.kernel.accessAllowed ? 'block' : 'none';\n",
              "\n",
              "        async function convertToInteractive(key) {\n",
              "          const element = document.querySelector('#df-1ab751d9-f242-4e71-8370-87c9925171db');\n",
              "          const dataTable =\n",
              "            await google.colab.kernel.invokeFunction('convertToInteractive',\n",
              "                                                     [key], {});\n",
              "          if (!dataTable) return;\n",
              "\n",
              "          const docLinkHtml = 'Like what you see? Visit the ' +\n",
              "            '<a target=\"_blank\" href=https://colab.research.google.com/notebooks/data_table.ipynb>data table notebook</a>'\n",
              "            + ' to learn more about interactive tables.';\n",
              "          element.innerHTML = '';\n",
              "          dataTable['output_type'] = 'display_data';\n",
              "          await google.colab.output.renderOutput(dataTable, element);\n",
              "          const docLink = document.createElement('div');\n",
              "          docLink.innerHTML = docLinkHtml;\n",
              "          element.appendChild(docLink);\n",
              "        }\n",
              "      </script>\n",
              "    </div>\n",
              "  </div>\n",
              "  "
            ]
          },
          "metadata": {},
          "execution_count": 285
        }
      ],
      "source": [
        "ldata.head(10)"
      ]
    },
    {
      "cell_type": "code",
      "execution_count": 286,
      "metadata": {
        "id": "oPnizdrB1bHn",
        "colab": {
          "base_uri": "https://localhost:8080/"
        },
        "outputId": "6e52550b-4d19-41ea-c985-a114565a7668"
      },
      "outputs": [
        {
          "output_type": "stream",
          "name": "stdout",
          "text": [
            "Requirement already satisfied: iso639 in /usr/local/lib/python3.7/dist-packages (0.1.4)\n"
          ]
        }
      ],
      "source": [
        "!pip install iso639"
      ]
    },
    {
      "cell_type": "code",
      "execution_count": 287,
      "metadata": {
        "id": "y1gyXCDW1WwX",
        "colab": {
          "base_uri": "https://localhost:8080/"
        },
        "outputId": "79364f26-86d7-42e7-e23e-7bac8749d81f"
      },
      "outputs": [
        {
          "output_type": "stream",
          "name": "stdout",
          "text": [
            "Accuracy of Trained Neural Network is  97.3125        \n",
            "\rAccuracy of Multinomial Naive Bayes is 96.4375\n"
          ]
        }
      ],
      "source": [
        "import iso639\n",
        "\n",
        "langlist = ('eng', 'rus', 'ita', 'fra', 'fas', 'tur', 'deu', 'spa',\n",
        "            'dan', 'kan', 'por', 'mal', 'swe', 'dut', 'ara', 'tam', 'dan', 'gre', 'hin' )\n",
        "RX = ldata.loc[ldata['Language'].isin(langlist)][\"Text\"]\n",
        "RY = ldata.loc[ldata['Language'].isin(langlist)][\"Language\"]\n",
        "\n",
        "rx = cv.transform([i for i in RX]).toarray()\n",
        "yhatnb = modelMNB.predict(rx)\n",
        "\n",
        "rx = torch.tensor(rx, dtype=torch.float).to(device)\n",
        "ry = [le.transform([iso639.to_name(i).split(';')[0]]) for i in RY]\n",
        "\n",
        "with torch.no_grad():\n",
        "  yhatnn = best_model(rx)\n",
        "  yhatnn = yhatnn.argmax(dim=1)\n",
        "\n",
        "accnn = accuracy_score(ry, yhatnn.cpu())\n",
        "accnb = accuracy_score(ry, yhatnb)\n",
        "\n",
        "print(f\"Accuracy of Trained Neural Network is  {accnn*100}\\\n",
        "        \\n\\rAccuracy of Multinomial Naive Bayes is {accnb*100}\")"
      ]
    },
    {
      "cell_type": "code",
      "execution_count": 287,
      "metadata": {
        "id": "dy49u3fPsldk"
      },
      "outputs": [],
      "source": [
        ""
      ]
    }
  ],
  "metadata": {
    "accelerator": "GPU",
    "colab": {
      "collapsed_sections": [],
      "name": "Language Detection.ipynb",
      "provenance": []
    },
    "kernelspec": {
      "display_name": "Python 3",
      "language": "python",
      "name": "python3"
    },
    "language_info": {
      "codemirror_mode": {
        "name": "ipython",
        "version": 3
      },
      "file_extension": ".py",
      "mimetype": "text/x-python",
      "name": "python",
      "nbconvert_exporter": "python",
      "pygments_lexer": "ipython3",
      "version": "3.9.6"
    }
  },
  "nbformat": 4,
  "nbformat_minor": 0
}